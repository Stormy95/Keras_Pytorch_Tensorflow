{
  "cells": [
    {
      "cell_type": "markdown",
      "metadata": {
        "id": "i8TNcWsC0bFp"
      },
      "source": [
        "# TD3 - Apprentissage par renforcement"
      ]
    },
    {
      "cell_type": "markdown",
      "source": [
        "**L’objectif de ce TD** est de mettre en oeuvre l’apprentissage par renforcement. Nous allons\n",
        "utiliser le toolkit Gym qui propose plusieurs types d’environnements de simulation. Nous nous intéresserons en particulier à l’environnement Cartpole et à celui du jeu Breakout d’Atari."
      ],
      "metadata": {
        "id": "6hj0lJ0FLubw"
      }
    },
    {
      "cell_type": "markdown",
      "source": [
        "L'apprentissage par renforcement consiste, pour un agent autonome (robot, etc.), à apprendre les actions à prendre, à partir d'expériences, de façon à optimiser une récompense au cours du temps. \n",
        "\n",
        "L'agent est plongé au sein d'un environnement, et prend ses décisions en fonction de son état courant. En retour, l'environnement procure à l'agent une récompense, qui peut être positive ou négative. L'agent cherche, au travers d'expériences itérées, une stratégie optimale, c'est à dire qui maximise la somme des récompenses au cours du temps."
      ],
      "metadata": {
        "id": "q19zGdRBNvr3"
      }
    },
    {
      "cell_type": "markdown",
      "source": [
        "On effectuera ce TP via Google colab afin de profiter des GPU proposées. \n",
        "On installe donc les librairies nécessaires suivantes pour tout le TP notamment pur l'environnement Breakout"
      ],
      "metadata": {
        "id": "S6YzZ_uRNVwD"
      }
    },
    {
      "cell_type": "code",
      "source": [
        "!apt-get install -y xvfb python-opengl x11-utils\n",
        "!pip install gym==0.17.2 pyvirtualdisplay==0.2.5"
      ],
      "metadata": {
        "colab": {
          "base_uri": "https://localhost:8080/"
        },
        "id": "neVxavz7NVQS",
        "outputId": "f512acab-2d2e-4861-e938-4d69e1693112"
      },
      "execution_count": 1,
      "outputs": [
        {
          "output_type": "stream",
          "name": "stdout",
          "text": [
            "Reading package lists... Done\n",
            "Building dependency tree       \n",
            "Reading state information... Done\n",
            "x11-utils is already the newest version (7.7+3build1).\n",
            "python-opengl is already the newest version (3.1.0+dfsg-1).\n",
            "xvfb is already the newest version (2:1.19.6-1ubuntu4.10).\n",
            "0 upgraded, 0 newly installed, 0 to remove and 37 not upgraded.\n",
            "Requirement already satisfied: gym==0.17.2 in /usr/local/lib/python3.7/dist-packages (0.17.2)\n",
            "Requirement already satisfied: pyvirtualdisplay==0.2.5 in /usr/local/lib/python3.7/dist-packages (0.2.5)\n",
            "Requirement already satisfied: cloudpickle<1.4.0,>=1.2.0 in /usr/local/lib/python3.7/dist-packages (from gym==0.17.2) (1.3.0)\n",
            "Requirement already satisfied: pyglet<=1.5.0,>=1.4.0 in /usr/local/lib/python3.7/dist-packages (from gym==0.17.2) (1.5.0)\n",
            "Requirement already satisfied: scipy in /usr/local/lib/python3.7/dist-packages (from gym==0.17.2) (1.4.1)\n",
            "Requirement already satisfied: numpy>=1.10.4 in /usr/local/lib/python3.7/dist-packages (from gym==0.17.2) (1.19.5)\n",
            "Requirement already satisfied: EasyProcess in /usr/local/lib/python3.7/dist-packages (from pyvirtualdisplay==0.2.5) (1.1)\n",
            "Requirement already satisfied: future in /usr/local/lib/python3.7/dist-packages (from pyglet<=1.5.0,>=1.4.0->gym==0.17.2) (0.16.0)\n"
          ]
        }
      ]
    },
    {
      "cell_type": "code",
      "source": [
        "# Télécharge les différentes 'ROMS', qui contiennent les jeux Atari. On a donc accès ici à tous les jeux Atari.N\n",
        "! wget http://www.atarimania.com/roms/Roms.rar\n",
        "! mkdir /content/ROM/\n",
        "! unrar e /content/Roms.rar /content/ROM/\n",
        "! python -m atari_py.import_roms /content/ROM/"
      ],
      "metadata": {
        "colab": {
          "base_uri": "https://localhost:8080/"
        },
        "id": "-ufpjNJkNuOe",
        "outputId": "4626c7f2-5f9c-4c40-bb56-15fa08995e7e"
      },
      "execution_count": 2,
      "outputs": [
        {
          "output_type": "stream",
          "name": "stdout",
          "text": [
            "--2022-01-17 08:52:48--  http://www.atarimania.com/roms/Roms.rar\n",
            "Resolving www.atarimania.com (www.atarimania.com)... 195.154.81.199\n",
            "Connecting to www.atarimania.com (www.atarimania.com)|195.154.81.199|:80... connected.\n",
            "HTTP request sent, awaiting response... 200 OK\n",
            "Length: 11128004 (11M) [application/x-rar-compressed]\n",
            "Saving to: ‘Roms.rar.1’\n",
            "\n",
            "Roms.rar.1          100%[===================>]  10.61M   487KB/s    in 23s     \n",
            "\n",
            "2022-01-17 08:53:11 (470 KB/s) - ‘Roms.rar.1’ saved [11128004/11128004]\n",
            "\n",
            "mkdir: cannot create directory ‘/content/ROM/’: File exists\n",
            "\n",
            "UNRAR 5.50 freeware      Copyright (c) 1993-2017 Alexander Roshal\n",
            "\n",
            "\n",
            "Extracting from /content/Roms.rar\n",
            "\n",
            "\n",
            "Would you like to replace the existing file /content/ROM/HC ROMS.zip\n",
            "11826711 bytes, modified on 2019-12-22 11:24\n",
            "with a new one\n",
            "11826711 bytes, modified on 2019-12-22 11:24\n",
            "\n",
            "[Y]es, [N]o, [A]ll, n[E]ver, [R]ename, [Q]uit Y\n",
            "\n",
            "Extracting  /content/ROM/HC ROMS.zip                                     \b\b\b\b 36%\b\b\b\b\b  OK \n",
            "\n",
            "Would you like to replace the existing file /content/ROM/ROMS.zip\n",
            "8181588 bytes, modified on 2019-12-22 11:23\n",
            "with a new one\n",
            "8181588 bytes, modified on 2019-12-22 11:23\n",
            "\n",
            "[Y]es, [N]o, [A]ll, n[E]ver, [R]ename, [Q]uit Y\n",
            "\n",
            "Extracting  /content/ROM/ROMS.zip                                        \b\b\b\b 74%\b\b\b\b 99%\b\b\b\b\b  OK \n",
            "All OK\n",
            "copying adventure.bin from ROMS/Adventure (1980) (Atari, Warren Robinett) (CX2613, CX2613P) (PAL).bin to /usr/local/lib/python3.7/dist-packages/atari_py/atari_roms/adventure.bin\n",
            "copying air_raid.bin from ROMS/Air Raid (Men-A-Vision) (PAL) ~.bin to /usr/local/lib/python3.7/dist-packages/atari_py/atari_roms/air_raid.bin\n",
            "copying alien.bin from ROMS/Alien (1982) (20th Century Fox Video Games, Douglas 'Dallas North' Neubauer) (11006) ~.bin to /usr/local/lib/python3.7/dist-packages/atari_py/atari_roms/alien.bin\n",
            "copying amidar.bin from ROMS/Amidar (1982) (Parker Brothers, Ed Temple) (PB5310) ~.bin to /usr/local/lib/python3.7/dist-packages/atari_py/atari_roms/amidar.bin\n",
            "copying assault.bin from ROMS/Assault (AKA Sky Alien) (1983) (Bomb - Onbase) (CA281).bin to /usr/local/lib/python3.7/dist-packages/atari_py/atari_roms/assault.bin\n",
            "copying asterix.bin from ROMS/Asterix (AKA Taz) (07-27-1983) (Atari, Jerome Domurat, Steve Woita) (CX2696) (Prototype).bin to /usr/local/lib/python3.7/dist-packages/atari_py/atari_roms/asterix.bin\n",
            "copying asteroids.bin from ROMS/Asteroids (1981) (Atari, Brad Stewart - Sears) (CX2649 - 49-75163) [no copyright] ~.bin to /usr/local/lib/python3.7/dist-packages/atari_py/atari_roms/asteroids.bin\n",
            "copying atlantis.bin from ROMS/Atlantis (Lost City of Atlantis) (1982) (Imagic, Dennis Koble) (720103-1A, 720103-1B, IA3203, IX-010-04) ~.bin to /usr/local/lib/python3.7/dist-packages/atari_py/atari_roms/atlantis.bin\n",
            "copying bank_heist.bin from ROMS/Bank Heist (Bonnie & Clyde, Cops 'n' Robbers, Hold-Up, Roaring 20's) (1983) (20th Century Fox Video Games, Bill Aspromonte) (11012) ~.bin to /usr/local/lib/python3.7/dist-packages/atari_py/atari_roms/bank_heist.bin\n",
            "copying battle_zone.bin from ROMS/Battlezone (1983) (Atari - GCC, Mike Feinstein, Brad Rice) (CX2681) ~.bin to /usr/local/lib/python3.7/dist-packages/atari_py/atari_roms/battle_zone.bin\n",
            "copying beam_rider.bin from ROMS/Beamrider (1984) (Activision - Cheshire Engineering, David Rolfe, Larry Zwick) (AZ-037-04) ~.bin to /usr/local/lib/python3.7/dist-packages/atari_py/atari_roms/beam_rider.bin\n",
            "copying berzerk.bin from ROMS/Berzerk (1982) (Atari, Dan Hitchens - Sears) (CX2650 - 49-75168) ~.bin to /usr/local/lib/python3.7/dist-packages/atari_py/atari_roms/berzerk.bin\n",
            "copying bowling.bin from ROMS/Bowling (1979) (Atari, Larry Kaplan - Sears) (CX2628 - 6-99842, 49-75117) ~.bin to /usr/local/lib/python3.7/dist-packages/atari_py/atari_roms/bowling.bin\n",
            "copying boxing.bin from ROMS/Boxing - La Boxe (1980) (Activision, Bob Whitehead) (AG-002, CAG-002, AG-002-04) ~.bin to /usr/local/lib/python3.7/dist-packages/atari_py/atari_roms/boxing.bin\n",
            "copying breakout.bin from ROMS/Breakout - Breakaway IV (Paddle) (1978) (Atari, Brad Stewart - Sears) (CX2622 - 6-99813, 49-75107) ~.bin to /usr/local/lib/python3.7/dist-packages/atari_py/atari_roms/breakout.bin\n",
            "copying carnival.bin from ROMS/Carnival (1982) (Coleco - Woodside Design Associates, Steve 'Jessica Stevens' Kitchen) (2468) ~.bin to /usr/local/lib/python3.7/dist-packages/atari_py/atari_roms/carnival.bin\n",
            "copying centipede.bin from ROMS/Centipede (1983) (Atari - GCC) (CX2676) ~.bin to /usr/local/lib/python3.7/dist-packages/atari_py/atari_roms/centipede.bin\n",
            "copying chopper_command.bin from ROMS/Chopper Command (1982) (Activision, Bob Whitehead) (AX-015, AX-015-04) ~.bin to /usr/local/lib/python3.7/dist-packages/atari_py/atari_roms/chopper_command.bin\n",
            "copying crazy_climber.bin from ROMS/Crazy Climber (1983) (Atari - Roklan, Joe Gaucher, Alex Leavens) (CX2683) ~.bin to /usr/local/lib/python3.7/dist-packages/atari_py/atari_roms/crazy_climber.bin\n",
            "copying defender.bin from ROMS/Defender (1982) (Atari, Robert C. Polaro, Alan J. Murphy - Sears) (CX2609 - 49-75186) ~.bin to /usr/local/lib/python3.7/dist-packages/atari_py/atari_roms/defender.bin\n",
            "copying demon_attack.bin from ROMS/Demon Attack (Death from Above) (1982) (Imagic, Rob Fulop) (720000-200, 720101-1B, 720101-1C, IA3200, IA3200C, IX-006-04) ~.bin to /usr/local/lib/python3.7/dist-packages/atari_py/atari_roms/demon_attack.bin\n",
            "copying donkey_kong.bin from ROMS/Donkey Kong (1982) (Coleco - Woodside Design Associates - Imaginative Systems Software, Garry Kitchen) (2451) ~.bin to /usr/local/lib/python3.7/dist-packages/atari_py/atari_roms/donkey_kong.bin\n",
            "copying double_dunk.bin from ROMS/Double Dunk (Super Basketball) (1989) (Atari, Matthew L. Hubbard) (CX26159) ~.bin to /usr/local/lib/python3.7/dist-packages/atari_py/atari_roms/double_dunk.bin\n",
            "copying elevator_action.bin from ROMS/Elevator Action (1983) (Atari, Dan Hitchens) (CX26126) (Prototype) ~.bin to /usr/local/lib/python3.7/dist-packages/atari_py/atari_roms/elevator_action.bin\n",
            "copying enduro.bin from ROMS/Enduro (1983) (Activision, Larry Miller) (AX-026, AX-026-04) ~.bin to /usr/local/lib/python3.7/dist-packages/atari_py/atari_roms/enduro.bin\n",
            "copying fishing_derby.bin from ROMS/Fishing Derby (1980) (Activision, David Crane) (AG-004) ~.bin to /usr/local/lib/python3.7/dist-packages/atari_py/atari_roms/fishing_derby.bin\n",
            "copying freeway.bin from ROMS/Freeway (1981) (Activision, David Crane) (AG-009, AG-009-04) ~.bin to /usr/local/lib/python3.7/dist-packages/atari_py/atari_roms/freeway.bin\n",
            "copying frogger.bin from ROMS/Frogger (1982) (Parker Brothers, Ed English, David Lamkins) (PB5300) ~.bin to /usr/local/lib/python3.7/dist-packages/atari_py/atari_roms/frogger.bin\n",
            "copying frostbite.bin from ROMS/Frostbite (1983) (Activision, Steve Cartwright) (AX-031) ~.bin to /usr/local/lib/python3.7/dist-packages/atari_py/atari_roms/frostbite.bin\n",
            "copying galaxian.bin from ROMS/Galaxian (1983) (Atari - GCC, Mark Ackerman, Tom Calderwood, Glenn Parker) (CX2684) ~.bin to /usr/local/lib/python3.7/dist-packages/atari_py/atari_roms/galaxian.bin\n",
            "copying gopher.bin from ROMS/Gopher (Gopher Attack) (1982) (U.S. Games Corporation - JWDA, Sylvia Day, Todd Marshall, Robin McDaniel, Henry Will IV) (VC2001) ~.bin to /usr/local/lib/python3.7/dist-packages/atari_py/atari_roms/gopher.bin\n",
            "copying gravitar.bin from ROMS/Gravitar (1983) (Atari, Dan Hitchens, Mimi Nyden) (CX2685) ~.bin to /usr/local/lib/python3.7/dist-packages/atari_py/atari_roms/gravitar.bin\n",
            "copying hero.bin from ROMS/H.E.R.O. (1984) (Activision, John Van Ryzin) (AZ-036-04) ~.bin to /usr/local/lib/python3.7/dist-packages/atari_py/atari_roms/hero.bin\n",
            "copying ice_hockey.bin from ROMS/Ice Hockey - Le Hockey Sur Glace (1981) (Activision, Alan Miller) (AX-012, CAX-012, AX-012-04) ~.bin to /usr/local/lib/python3.7/dist-packages/atari_py/atari_roms/ice_hockey.bin\n",
            "copying jamesbond.bin from ROMS/James Bond 007 (James Bond Agent 007) (1984) (Parker Brothers - On-Time Software, Joe Gaucher, Louis Marbel) (PB5110) ~.bin to /usr/local/lib/python3.7/dist-packages/atari_py/atari_roms/jamesbond.bin\n",
            "copying journey_escape.bin from ROMS/Journey Escape (1983) (Data Age, J. Ray Dettling) (112-006) ~.bin to /usr/local/lib/python3.7/dist-packages/atari_py/atari_roms/journey_escape.bin\n",
            "copying kaboom.bin from ROMS/Kaboom! (Paddle) (1981) (Activision, Larry Kaplan, David Crane) (AG-010, AG-010-04) ~.bin to /usr/local/lib/python3.7/dist-packages/atari_py/atari_roms/kaboom.bin\n",
            "copying kangaroo.bin from ROMS/Kangaroo (1983) (Atari - GCC, Kevin Osborn) (CX2689) ~.bin to /usr/local/lib/python3.7/dist-packages/atari_py/atari_roms/kangaroo.bin\n",
            "copying keystone_kapers.bin from ROMS/Keystone Kapers - Raueber und Gendarm (1983) (Activision, Garry Kitchen - Ariola) (EAX-025, EAX-025-04I - 711 025-725) (PAL).bin to /usr/local/lib/python3.7/dist-packages/atari_py/atari_roms/keystone_kapers.bin\n",
            "copying king_kong.bin from ROMS/King Kong (1982) (Tigervision - Software Electronics Corporation, Karl T. Olinger - Teldec) (7-001 - 3.60001 VE) (PAL).bin to /usr/local/lib/python3.7/dist-packages/atari_py/atari_roms/king_kong.bin\n",
            "copying koolaid.bin from ROMS/Kool-Aid Man (Kool Aid Pitcher Man) (1983) (M Network, Stephen Tatsumi, Jane Terjung - Kool Aid) (MT4648) ~.bin to /usr/local/lib/python3.7/dist-packages/atari_py/atari_roms/koolaid.bin\n",
            "copying krull.bin from ROMS/Krull (1983) (Atari, Jerome Domurat, Dave Staugas) (CX2682) ~.bin to /usr/local/lib/python3.7/dist-packages/atari_py/atari_roms/krull.bin\n",
            "copying kung_fu_master.bin from ROMS/Kung-Fu Master (1987) (Activision - Imagineering, Dan Kitchen, Garry Kitchen) (AG-039-04) ~.bin to /usr/local/lib/python3.7/dist-packages/atari_py/atari_roms/kung_fu_master.bin\n",
            "copying laser_gates.bin from ROMS/Laser Gates (AKA Innerspace) (1983) (Imagic, Dan Oliver) (720118-2A, 13208, EIX-007-04I) (PAL).bin to /usr/local/lib/python3.7/dist-packages/atari_py/atari_roms/laser_gates.bin\n",
            "copying lost_luggage.bin from ROMS/Lost Luggage (Airport Mayhem) (1982) (Apollo - Games by Apollo, Larry Minor, Ernie Runyon, Ed Salvo) (AP-2004) [no opening scene] ~.bin to /usr/local/lib/python3.7/dist-packages/atari_py/atari_roms/lost_luggage.bin\n",
            "copying montezuma_revenge.bin from ROMS/Montezuma's Revenge - Featuring Panama Joe (1984) (Parker Brothers - JWDA, Henry Will IV) (PB5760) ~.bin to /usr/local/lib/python3.7/dist-packages/atari_py/atari_roms/montezuma_revenge.bin\n",
            "copying mr_do.bin from ROMS/Mr. Do! (1983) (CBS Electronics, Ed English) (4L4478) (PAL).bin to /usr/local/lib/python3.7/dist-packages/atari_py/atari_roms/mr_do.bin\n",
            "copying ms_pacman.bin from ROMS/Ms. Pac-Man (1983) (Atari - GCC, Mark Ackerman, Glenn Parker) (CX2675) ~.bin to /usr/local/lib/python3.7/dist-packages/atari_py/atari_roms/ms_pacman.bin\n",
            "copying name_this_game.bin from ROMS/Name This Game (Guardians of Treasure) (1983) (U.S. Games Corporation - JWDA, Roger Booth, Sylvia Day, Ron Dubren, Todd Marshall, Robin McDaniel, Wes Trager, Henry Will IV) (VC1007) ~.bin to /usr/local/lib/python3.7/dist-packages/atari_py/atari_roms/name_this_game.bin\n",
            "copying pacman.bin from ROMS/Pac-Man (1982) (Atari, Tod Frye) (CX2646) (PAL).bin to /usr/local/lib/python3.7/dist-packages/atari_py/atari_roms/pacman.bin\n",
            "copying phoenix.bin from ROMS/Phoenix (1983) (Atari - GCC, Mike Feinstein, John Mracek) (CX2673) ~.bin to /usr/local/lib/python3.7/dist-packages/atari_py/atari_roms/phoenix.bin\n",
            "copying video_pinball.bin from ROMS/Pinball (AKA Video Pinball) (Zellers).bin to /usr/local/lib/python3.7/dist-packages/atari_py/atari_roms/video_pinball.bin\n",
            "copying pitfall.bin from ROMS/Pitfall! - Pitfall Harry's Jungle Adventure (Jungle Runner) (1982) (Activision, David Crane) (AX-018, AX-018-04) ~.bin to /usr/local/lib/python3.7/dist-packages/atari_py/atari_roms/pitfall.bin\n",
            "copying pooyan.bin from ROMS/Pooyan (1983) (Konami) (RC 100-X 02) ~.bin to /usr/local/lib/python3.7/dist-packages/atari_py/atari_roms/pooyan.bin\n",
            "copying private_eye.bin from ROMS/Private Eye (1984) (Activision, Bob Whitehead) (AG-034-04) ~.bin to /usr/local/lib/python3.7/dist-packages/atari_py/atari_roms/private_eye.bin\n",
            "copying qbert.bin from ROMS/Q-bert (1983) (Parker Brothers - Western Technologies, Dave Hampton, Tom Sloper) (PB5360) ~.bin to /usr/local/lib/python3.7/dist-packages/atari_py/atari_roms/qbert.bin\n",
            "copying riverraid.bin from ROMS/River Raid (1982) (Activision, Carol Shaw) (AX-020, AX-020-04) ~.bin to /usr/local/lib/python3.7/dist-packages/atari_py/atari_roms/riverraid.bin\n",
            "copying road_runner.bin from patched version of ROMS/Road Runner (1989) (Atari - Bobco, Robert C. Polaro) (CX2663) ~.bin to /usr/local/lib/python3.7/dist-packages/atari_py/atari_roms/road_runner.bin\n",
            "copying robotank.bin from ROMS/Robot Tank (Robotank) (1983) (Activision, Alan Miller) (AZ-028, AG-028-04) ~.bin to /usr/local/lib/python3.7/dist-packages/atari_py/atari_roms/robotank.bin\n",
            "copying seaquest.bin from ROMS/Seaquest (1983) (Activision, Steve Cartwright) (AX-022) ~.bin to /usr/local/lib/python3.7/dist-packages/atari_py/atari_roms/seaquest.bin\n",
            "copying sir_lancelot.bin from ROMS/Sir Lancelot (1983) (Xonox - K-Tel Software - Product Guild, Anthony R. Henderson) (99006, 6220) (PAL).bin to /usr/local/lib/python3.7/dist-packages/atari_py/atari_roms/sir_lancelot.bin\n",
            "copying skiing.bin from ROMS/Skiing - Le Ski (1980) (Activision, Bob Whitehead) (AG-005, CAG-005, AG-005-04) ~.bin to /usr/local/lib/python3.7/dist-packages/atari_py/atari_roms/skiing.bin\n",
            "copying solaris.bin from ROMS/Solaris (The Last Starfighter, Star Raiders II, Universe) (1986) (Atari, Douglas Neubauer, Mimi Nyden) (CX26136) ~.bin to /usr/local/lib/python3.7/dist-packages/atari_py/atari_roms/solaris.bin\n",
            "copying space_invaders.bin from ROMS/Space Invaders (1980) (Atari, Richard Maurer - Sears) (CX2632 - 49-75153) ~.bin to /usr/local/lib/python3.7/dist-packages/atari_py/atari_roms/space_invaders.bin\n",
            "copying star_gunner.bin from ROMS/Stargunner (1983) (Telesys, Alex Leavens) (1005) ~.bin to /usr/local/lib/python3.7/dist-packages/atari_py/atari_roms/star_gunner.bin\n",
            "copying surround.bin from ROMS/Surround (32 in 1) (Bit Corporation) (R320).bin to /usr/local/lib/python3.7/dist-packages/atari_py/atari_roms/surround.bin\n",
            "copying tennis.bin from ROMS/Tennis - Le Tennis (1981) (Activision, Alan Miller) (AG-007, CAG-007) ~.bin to /usr/local/lib/python3.7/dist-packages/atari_py/atari_roms/tennis.bin\n",
            "copying time_pilot.bin from ROMS/Time Pilot (1983) (Coleco - Woodside Design Associates, Harley H. Puthuff Jr.) (2663) ~.bin to /usr/local/lib/python3.7/dist-packages/atari_py/atari_roms/time_pilot.bin\n",
            "copying trondead.bin from ROMS/TRON - Deadly Discs (TRON Joystick) (1983) (M Network - INTV - APh Technological Consulting, Jeff Ronne, Brett Stutz) (MT5662) ~.bin to /usr/local/lib/python3.7/dist-packages/atari_py/atari_roms/trondead.bin\n",
            "copying tutankham.bin from ROMS/Tutankham (1983) (Parker Brothers, Dave Engman, Dawn Stockbridge) (PB5340) ~.bin to /usr/local/lib/python3.7/dist-packages/atari_py/atari_roms/tutankham.bin\n",
            "copying up_n_down.bin from ROMS/Up 'n Down (1984) (SEGA - Beck-Tech, Steve Beck, Phat Ho) (009-01) ~.bin to /usr/local/lib/python3.7/dist-packages/atari_py/atari_roms/up_n_down.bin\n",
            "copying venture.bin from ROMS/Venture (1982) (Coleco, Joseph Biel) (2457) ~.bin to /usr/local/lib/python3.7/dist-packages/atari_py/atari_roms/venture.bin\n",
            "copying pong.bin from ROMS/Video Olympics - Pong Sports (Paddle) (1977) (Atari, Joe Decuir - Sears) (CX2621 - 99806, 6-99806, 49-75104) ~.bin to /usr/local/lib/python3.7/dist-packages/atari_py/atari_roms/pong.bin\n",
            "copying wizard_of_wor.bin from ROMS/Wizard of Wor (1982) (CBS Electronics - Roklan, Joe Hellesen, Joe Wagner) (M8774, M8794) ~.bin to /usr/local/lib/python3.7/dist-packages/atari_py/atari_roms/wizard_of_wor.bin\n",
            "copying yars_revenge.bin from ROMS/Yars' Revenge (Time Freeze) (1982) (Atari, Howard Scott Warshaw - Sears) (CX2655 - 49-75167) ~.bin to /usr/local/lib/python3.7/dist-packages/atari_py/atari_roms/yars_revenge.bin\n",
            "copying zaxxon.bin from ROMS/Zaxxon (1983) (Coleco) (2454) ~.bin to /usr/local/lib/python3.7/dist-packages/atari_py/atari_roms/zaxxon.bin\n"
          ]
        }
      ]
    },
    {
      "cell_type": "code",
      "source": [
        "pip install gym[atari,accept-rom-license]"
      ],
      "metadata": {
        "colab": {
          "base_uri": "https://localhost:8080/"
        },
        "id": "nRX5QOruN8BR",
        "outputId": "0643a104-7004-4b69-8adc-f9e4925cca09"
      },
      "execution_count": 3,
      "outputs": [
        {
          "output_type": "stream",
          "name": "stdout",
          "text": [
            "Requirement already satisfied: gym[accept-rom-license,atari] in /usr/local/lib/python3.7/dist-packages (0.17.2)\n",
            "\u001b[33mWARNING: gym 0.17.2 does not provide the extra 'accept-rom-license'\u001b[0m\n",
            "Requirement already satisfied: numpy>=1.10.4 in /usr/local/lib/python3.7/dist-packages (from gym[accept-rom-license,atari]) (1.19.5)\n",
            "Requirement already satisfied: cloudpickle<1.4.0,>=1.2.0 in /usr/local/lib/python3.7/dist-packages (from gym[accept-rom-license,atari]) (1.3.0)\n",
            "Requirement already satisfied: pyglet<=1.5.0,>=1.4.0 in /usr/local/lib/python3.7/dist-packages (from gym[accept-rom-license,atari]) (1.5.0)\n",
            "Requirement already satisfied: scipy in /usr/local/lib/python3.7/dist-packages (from gym[accept-rom-license,atari]) (1.4.1)\n",
            "Requirement already satisfied: opencv-python in /usr/local/lib/python3.7/dist-packages (from gym[accept-rom-license,atari]) (4.1.2.30)\n",
            "Requirement already satisfied: atari-py~=0.2.0 in /usr/local/lib/python3.7/dist-packages (from gym[accept-rom-license,atari]) (0.2.9)\n",
            "Requirement already satisfied: Pillow in /usr/local/lib/python3.7/dist-packages (from gym[accept-rom-license,atari]) (7.1.2)\n",
            "Requirement already satisfied: six in /usr/local/lib/python3.7/dist-packages (from atari-py~=0.2.0->gym[accept-rom-license,atari]) (1.15.0)\n",
            "Requirement already satisfied: future in /usr/local/lib/python3.7/dist-packages (from pyglet<=1.5.0,>=1.4.0->gym[accept-rom-license,atari]) (0.16.0)\n"
          ]
        }
      ]
    },
    {
      "cell_type": "code",
      "source": [
        "!apt-get install x11-utils > /dev/null 2>&1 \n",
        "!pip install pyglet > /dev/null 2>&1 \n",
        "!apt-get install -y xvfb python-opengl > /dev/null 2>&1"
      ],
      "metadata": {
        "id": "0x5COZKPNtWm"
      },
      "execution_count": 4,
      "outputs": []
    },
    {
      "cell_type": "code",
      "source": [
        "!pip install gym pyvirtualdisplay > /dev/null 2>&1"
      ],
      "metadata": {
        "id": "EuMupMHLODJS"
      },
      "execution_count": 5,
      "outputs": []
    },
    {
      "cell_type": "markdown",
      "metadata": {
        "id": "oNfrX-6y0bF1"
      },
      "source": [
        "## Premier cas d'application : le CartPole"
      ]
    },
    {
      "cell_type": "markdown",
      "source": [
        "**CartPole**, également connu sous le nom de pendule inversé, est un jeu dans lequel vous essayez d'équilibrer une perche le plus longtemps possible. On suppose qu'à l'extrémité de la perche, il y a un objet qui la rend instable et très susceptible de tomber. Le but de cette tâche est de déplacer le chariot de gauche à droite de manière à ce que le poteau puisse rester en équilibre (dans un certain angle) le plus longtemps possible."
      ],
      "metadata": {
        "id": "6SgD7ltNL28Y"
      }
    },
    {
      "cell_type": "markdown",
      "metadata": {
        "id": "bzxfqTOR0bF2"
      },
      "source": [
        "On commence par importer les différents modules nécessaires à ce TD. Le module gym possède de nombreux environnements permettant d'entraîner des modèles de Reinforcement Learning.\n",
        "On utilise des modules plus commun comme matplotlib, Image, torch respectivement pour les parties affichages, traitement d'image et computationnelle."
      ]
    },
    {
      "cell_type": "code",
      "execution_count": 6,
      "metadata": {
        "colab": {
          "base_uri": "https://localhost:8080/"
        },
        "id": "DDJAk9cl0bF4",
        "outputId": "4aaf67ce-8c33-4638-9ed4-886df15b257d"
      },
      "outputs": [
        {
          "output_type": "execute_result",
          "data": {
            "text/plain": [
              "<matplotlib.pyplot._IonContext at 0x7f8d2ada0e90>"
            ]
          },
          "metadata": {},
          "execution_count": 6
        }
      ],
      "source": [
        "import gym\n",
        "import math\n",
        "import random\n",
        "import numpy as np\n",
        "import matplotlib\n",
        "import matplotlib.pyplot as plt\n",
        "from collections import namedtuple\n",
        "from itertools import count\n",
        "from PIL import Image\n",
        "import time\n",
        "\n",
        "import torch\n",
        "import torch.nn as nn\n",
        "import torch.optim as optim\n",
        "import torch.nn.functional as F\n",
        "import torchvision.transforms as T\n",
        "\n",
        "# Si accès à un GPU, on indique à torch de le faire tourner sur le GPU (plus puissant).\n",
        "device = torch.device(\"cuda\" if torch.cuda.is_available() else \"cpu\")\n",
        "\n",
        "from IPython import display as ipythondisplay\n",
        "# set up matplotlib\n",
        "is_ipython = 'inline' in matplotlib.get_backend()\n",
        "if is_ipython:\n",
        "    from IPython import display\n",
        "plt.ion()"
      ]
    },
    {
      "cell_type": "code",
      "execution_count": 7,
      "metadata": {
        "colab": {
          "base_uri": "https://localhost:8080/"
        },
        "id": "iBReY1ox0bF9",
        "outputId": "93ad9dc8-172b-4992-e44f-bc8f0cbc499f"
      },
      "outputs": [
        {
          "output_type": "stream",
          "name": "stdout",
          "text": [
            "Transition(state=3, action=1, next_state=6, reward=0)\n",
            "Transition(state=1, action=1, next_state=1, reward=1)\n",
            "Transition(state=[1, 2, 3], action=[4, 5, 6], next_state=[1, 2, 3], reward=[7, 8, 9])\n"
          ]
        }
      ],
      "source": [
        "Transition = namedtuple('Transition', ('state', 'action', 'next_state', 'reward'))\n",
        "\n",
        "print(Transition(state=3, action=1, next_state=6, reward=0))\n",
        "print(Transition(1, 1, 1, 1))\n",
        "print(Transition([1,2,3], [4,5,6], [1,2,3], [7,8,9]))"
      ]
    },
    {
      "cell_type": "markdown",
      "metadata": {
        "id": "tNmy4HK40bGB"
      },
      "source": [
        "### ReplayMemory\n",
        "\n",
        "Cette classe permet de rejouer la mémoire afin d'effectuer le nouveau mouvement du chariot. les fonctions sont l'initialisation, l'addition de la nouvelle position du chariot, le renvoie de la longueur de la mémoire, l'échantillonnage d'un batch de la mémoire."
      ]
    },
    {
      "cell_type": "code",
      "execution_count": 8,
      "metadata": {
        "id": "APpMZ0750bGD"
      },
      "outputs": [],
      "source": [
        "class ReplayMemory(object):\n",
        "\n",
        "    def __init__(self, capacity):\n",
        "        self.capacity = capacity\n",
        "        self.memory = []\n",
        "        self.position = 0\n",
        "\n",
        "    def push(self, *args):\n",
        "        if len(self.memory) < self.capacity:\n",
        "            self.memory.append(None)\n",
        "        self.memory[self.position] = Transition(*args)\n",
        "        self.position = (self.position + 1) % self.capacity\n",
        "\n",
        "    def sample(self, batch_size):\n",
        "        return random.sample(self.memory, batch_size)\n",
        "\n",
        "    def __len__(self):\n",
        "        return len(self.memory)"
      ]
    },
    {
      "cell_type": "markdown",
      "metadata": {
        "id": "MLjaYD1I0bGF"
      },
      "source": [
        "### QNet\n",
        "On définit la classe QNet. QNet est un réseau avec une couche cachée, prise ici par défaut avec 256 neurones. On implémente également la fonction forward, qui nous permet d'effectuer la forward propagation dans le réseau. On fait le choix de mettre la dimension d'entrée et de sortie du QNet en argument, pour un programme plus adaptatif."
      ]
    },
    {
      "cell_type": "markdown",
      "source": [
        "le Q-learning est une technique d'apprentissage par renforcement. Cette technique ne nécessite aucun modèle initial de l'environnement. La lettre 'Q' désigne la fonction qui mesure la qualité d'une action exécutée dans un état donné du système.\n",
        "\n",
        "Cette méthode fonctionne par l'apprentissage d'une fonction notée Q(s,a) qui permet de déterminer le gain potentiel, c'est-à-dire la récompense sur le long terme, apportée par le choix d'une certaine action \"a\" dans un certain état \"s\" en suivant une stratégie optimale. Lorsque cette fonction Q est connue ou apprise par l'agent, la stratégie optimale peut être construite en sélectionnant l'action à valeur maximale pour chaque état, c'est-à-dire en sélectionnant l'action a qui maximise la valeur Q(s,a) quand l'agent se trouve dans l'état s.\n",
        "\n",
        "Dans un environnement reinforcement learning, pour un état (S) et une action (A), il y aura une valeur Q associée qui est maintenue dans une table. Mais lorsque le nombre d'états possibles est trop important, les valeurs Q associées à ces paires état-action explosent en nombre. C'est pourquoi on peut remplacé cette table Q par une fonction comme un réseau de neurones profond. D'où le nom de Deep-Q-Learning."
      ],
      "metadata": {
        "id": "Q9sN0B2WNqjK"
      }
    },
    {
      "cell_type": "code",
      "execution_count": 9,
      "metadata": {
        "id": "Wl7zFCjI0bGH"
      },
      "outputs": [],
      "source": [
        "class QNet(nn.Module):\n",
        "\n",
        "    def __init__(self, dim_in, dim_out, fc_size=256):\n",
        "        super(QNet, self).__init__()\n",
        "        # Définition d'un réseau avec une couche cachée (à 256 neurones par exemple)\n",
        "        # Linear crée une couche de 'Fully Connected Layers'\n",
        "        self.fc1 = nn.Linear(in_features=dim_in, out_features=fc_size) # Number of input = Number of output de la couche précédente\n",
        "        self.out = nn.Linear(in_features=fc_size, out_features=dim_out) # Number of output 2 car seulement 2 actions possibles (droite ou gauche)\n",
        "        \n",
        "\n",
        "    def forward(self, x):\n",
        "        # Calcul de la passe avant, avec ReLU pour fonction d'activation de la couche cachée\n",
        "        x = x.flatten(start_dim=1)\n",
        "        x = F.relu(self.fc1(x))\n",
        "        # Fonction d'activation linéaire sur la couche de sortie\n",
        "        x = self.out(x)\n",
        "        return x"
      ]
    },
    {
      "cell_type": "markdown",
      "metadata": {
        "id": "Y1S8sDs-0bGJ"
      },
      "source": [
        "### Agent \n",
        "Cette classe va permettre la gestion de l'agent (ici du chariot) afin de l'initialiser, de sélectionner l'action à effectuer ainsi que le processus d'entraînement du réseau de neurones. \n",
        "\n",
        "Ensuite, on implémente plusieurs fonctions : \n",
        "- initialisation : On initialise tous les paramètres de l'agent, les paramètres d'entraînement, les paramètres de sélection d'une action et l'initialisation du réseau de neurones. Le seul argument ici est l'environnement.\n",
        "- selection d'action: On décide dans cette fonction si l'on va utiliser l'action prédite ou si on réalise une action aléatoire. Ce choix se fait en fonction d'un seuil, si une valeur tirée aléatoirement entre 0 et 1 est supérieure au seuil défini alors on sélectionne l'action renvoyée par la stratégie (le réseau de neurones) qui a le meilleur score. Sinon on renvoie une action aléatoire. Le seul argument ici est l'état du chariot.\n",
        "\n",
        "- optimisation du modèle: Dans cette fonction on va optimiser les paramètres du réseau de neurones. Le déroulement est le suivant: à partir d'un batch d'un triplet donné : state, action, reward (pris dans dans le tuple: Transition stockant tous ces triplets plus le next\\_state), on va d'abord calculer Q pour l'état courant à partir state et action dans le triplet précédent. On calcule ensuite Q prédit de l'état suivant. Enfin on calcul le Q cumulé attendu à partir du Q prédit que l'on vient de calculer et de la reward de l'état actuel, ce cumulé correspondant à l'état attendu. On utilise ensuite la perte de huber et on compare Q prédit et Q cumulé puis on optimise le sparamètres du réseau de neurones via une descente de gradient.\n",
        "\n",
        "- train policy modèle: Ici on réalise la fonction l'entraînement du réseau de neurones sur tous les épisodes. \n",
        "\n",
        "- test : Ici on va sélectionner l'action à faire à chaque épisode et l'envoyer à l'environnement afin de visualiser l'action.\n",
        "\n",
        "- Affichage de l'apprentissage : On obtient 2 graphes :\n",
        "    - Un graphe affichant la durée de l'épisode en fonction du nombre d'épisodes passés. L'apprentissage dans le problème du cartPole a pour buter de maximiser le temps sans que la barre tombe. La mesure de la durée de l'épisode est donc une bonne mesure de la performance de l'algorithme.\n",
        "    - Un graphe représentant la **moyenne** glissante des durées des épisodes (sur 100 épisodes). La moyenne glissante est plus pertinente pour observer l'apprentissage car la durée sur un simple épisode peut varier fortement du fait de la parite d'exploration de agent.\n",
        "\n",
        "Le process global est le suivant :\n",
        "1. On initialise la replay memory.\n",
        "2. On initialise le policy network avec des poids aléatoires.\n",
        "3. On clone le policy network, et on l'appelle le target network.\n",
        "4. Pour chaque épisode:\n",
        "    1. On initialise l'état de départ.\n",
        "    2. Pour chaque pas de temps:\n",
        "        1. On sélectionne une action.\n",
        "             - Via exploration ou exploitation (epsilon-greedy strategy)\n",
        "        2. On exécute l'action selectionnée.\n",
        "        3. On observe la récompense obtenue et le prochain état (next state).\n",
        "        4. On stocke l'expérience dans la replay memory.\n",
        "        5. On pioche aléatoirement un batch dans replay memory.\n",
        "        6. On preprocess les états des éléments du batch.\n",
        "        7. On passe le batch des états préprocessés au policy network.\n",
        "        8. On calcule la fonction de perte de Huber entre les Q-values prédites et Q-values voulues (target).\n",
        "            - Cela nécessite une passe à travers le target network pour le next state\n",
        "        9. On utilise une descente de gradient pour mettre à jour les weights dans le policy network afin de minimiser la fonction de perte.\n",
        "            - Après les différents pas de temps, les poids dans le target network sont mis à jour en prenant les poids du policy network.\n",
        "\n"
      ]
    },
    {
      "cell_type": "code",
      "execution_count": 10,
      "metadata": {
        "id": "a7fmcwyt0bGM"
      },
      "outputs": [],
      "source": [
        "class Agent:\n",
        "    def __init__(self,env, num_episodes=500, num_episodes_test=100):\n",
        "        self.env = env\n",
        "        self.batch_size = 128\n",
        "        self.gamma = 0.999\n",
        "        self.eps_start = 0.9\n",
        "        self.eps_end = 0.05\n",
        "        self.eps_decay = 200\n",
        "        self.target_update = 10\n",
        "        self.num_episodes = num_episodes\n",
        "        self.num_episodes_test = num_episodes_test\n",
        "        self.n_actions = env.action_space.n\n",
        "        self.episode_durations = []\n",
        "\n",
        "        # Dimension d'entree et de sortie du reseau\n",
        "        observation_space, action_space = env.observation_space.shape[0], env.action_space.n\n",
        "        self.policy_net = QNet(observation_space, action_space).to(device)\n",
        "        self.target_net = QNet(observation_space, action_space).to(device)\n",
        "        self.target_net.load_state_dict(self.policy_net.state_dict())\n",
        "        self.target_net.eval()\n",
        "\n",
        "        self.optimizer = optim.RMSprop(self.policy_net.parameters())\n",
        "        self.memory = ReplayMemory(10000)\n",
        "\n",
        "        self.steps_done = 0\n",
        "\n",
        "    def select_action(self,state):\n",
        "        sample = random.random()\n",
        "        eps_threshold = self.eps_end + (self.eps_start - self.eps_end) * \\\n",
        "            math.exp(-1. * self.steps_done / self.eps_decay)\n",
        "        self.steps_done += 1\n",
        "        if sample > eps_threshold: # Exploitation\n",
        "            # Calcul et renvoi de l'action fournie par le réseau\n",
        "            return self.policy_net.forward(state).max(1)[1].view(1, 1)\n",
        "        else: # Exploration\n",
        "            # Calcul et renvoi d'une action choisie aléatoirement\n",
        "            return torch.tensor([[random.randrange(self.n_actions)]], device=device, dtype=torch.long)\n",
        "\n",
        "    def process_state(self,state):\n",
        "        return torch.from_numpy(state).unsqueeze(0).float().to(device)\n",
        "\n",
        "    def plot_durations(self, is_testing=False):\n",
        "        if is_ipython:\n",
        "            ipythondisplay.clear_output(wait=True)\n",
        "            ipythondisplay.display(plt.gcf())\n",
        "\n",
        "        plt.figure(2)\n",
        "        plt.clf()\n",
        "        durations_t = torch.tensor(self.episode_durations, dtype=torch.float)\n",
        "        if is_testing:\n",
        "            plt.suptitle('Testing...')\n",
        "        else:\n",
        "            plt.suptitle('Training...')\n",
        "        plt.xlabel('Episode')\n",
        "        plt.ylabel('Duration')\n",
        "        plt.subplot(121)\n",
        "        plt.plot(durations_t.numpy(), color='b')\n",
        "\n",
        "        if len(durations_t) >= 100:\n",
        "            means = durations_t.unfold(0, 100, 1).mean(1).view(-1)\n",
        "            means = torch.cat((torch.zeros(99), means))\n",
        "            plt.subplot(122)\n",
        "            plt.plot(means.numpy(), color='m')\n",
        "\n",
        "        plt.pause(0.001)  # pause a bit so that plots are updated\n",
        "        \n",
        "    def optimize_model(self):\n",
        "        if len(self.memory) < self.batch_size:\n",
        "            return\n",
        "        transitions = self.memory.sample(self.batch_size)\n",
        "\n",
        "        batch = Transition(*zip(*transitions))\n",
        "\n",
        "        non_final_mask = torch.tensor(tuple(map(lambda s: s is not None,\n",
        "                                              batch.next_state)), device=device, dtype=torch.uint8)\n",
        "        non_final_next_states = torch.cat([s for s in batch.next_state\n",
        "                                                    if s is not None])\n",
        "        state_batch = torch.cat(batch.state)\n",
        "        action_batch = torch.cat(batch.action)\n",
        "        reward_batch = torch.cat(batch.reward)\n",
        "\n",
        "        # Calcul de Q(s_t,a) : Q pour l'état courant\n",
        "        state_action_values = self.policy_net(state_batch).gather(1, action_batch)\n",
        "\n",
        "        # Calcul de Q pour l'état suivant\n",
        "        next_state_values = torch.zeros(self.batch_size, device=device)\n",
        "        next_state_values[non_final_mask] = self.target_net(non_final_next_states).max(1)[0].detach()\n",
        "        \n",
        "        # Calcul de Q future attendue cumulée\n",
        "        expected_state_action_values = (next_state_values * self.gamma) + reward_batch\n",
        "\n",
        "        # Calcul de la fonction de perte de Huber\n",
        "        criterion = nn.SmoothL1Loss()\n",
        "        loss = criterion(state_action_values, expected_state_action_values.unsqueeze(1))\n",
        "\n",
        "        # Optimisation du modèle\n",
        "        self.optimizer.zero_grad()\n",
        "        loss.backward()\n",
        "        for param in self.policy_net.parameters():\n",
        "            param.grad.data.clamp_(-1, 1)\n",
        "        self.optimizer.step()\n",
        "        \n",
        "\n",
        "    def train_policy_model(self):\n",
        "\n",
        "        for i_episode in range(self.num_episodes):\n",
        "            state = self.env.reset()\n",
        "\n",
        "            for t in count():\n",
        "\n",
        "                action = self.select_action(self.process_state(state))\n",
        "                next_state, reward, done, _ = self.env.step(action.item())\n",
        "                reward = torch.tensor([reward], device=device)\n",
        "\n",
        "                if done:\n",
        "                    next_state = None\n",
        "\n",
        "                self.memory.push(self.process_state(state), action, self.process_state(next_state) if not next_state is None else None, reward)\n",
        "\n",
        "                state = next_state\n",
        "\n",
        "                self.optimize_model()\n",
        "\n",
        "                if done:\n",
        "                    self.episode_durations.append(t + 1)\n",
        "                    if i_episode > 0 and i_episode % 50 == 0:\n",
        "                        self.plot_durations()\n",
        "                    break\n",
        "\n",
        "            if i_episode % self.target_update == 0:\n",
        "                self.target_net.load_state_dict(self.policy_net.state_dict())\n",
        "                self.save_model()\n",
        "\n",
        "        self.save_model()\n",
        "        print('Training completed')\n",
        "        plt.show()\n",
        "\n",
        "\n",
        "    def save_model(self):\n",
        "        torch.save(self.policy_net.state_dict(), \"./qlearning_model\")\n",
        "\n",
        "    def load_model(self):\n",
        "        self.policy_net.load_state_dict(torch.load(\"./qlearning_model\", map_location=device))\n",
        "\n",
        "    def test(self, is_visible=True, is_random=False):\n",
        "        print('Testing model:')\n",
        "        self.episode_durations = []\n",
        "        for i_episode in range(self.num_episodes_test):\n",
        "            print('episode: {}'.format(i_episode))\n",
        "            state = self.env.reset()\n",
        "            for t in count():\n",
        "                if is_visible:\n",
        "                    screen = self.env.render(mode='rgb_array')\n",
        "                    plt.imshow(screen)\n",
        "                    ipythondisplay.clear_output(wait=True)\n",
        "                    ipythondisplay.display(plt.gcf())\n",
        "                    \n",
        "                # Sélection d'une action appliquée à l'environnement\n",
        "                action = None\n",
        "                if is_random:\n",
        "                    action = torch.tensor([[random.randrange(self.n_actions)]], device=device, dtype=torch.long)\n",
        "                else:\n",
        "                    action = self.policy_net.forward(self.process_state(state)).max(1)[1].view(1, 1)\n",
        "                # et mise à jour de l'état\n",
        "                next_state, reward, done, _ = self.env.step(action.item())\n",
        "                if done:\n",
        "                    next_state = None\n",
        "                self.memory.push(self.process_state(state), action, self.process_state(next_state) if not next_state is None else None, reward)\n",
        "                if done:\n",
        "                    self.episode_durations.append(t + 1)\n",
        "                    if i_episode > 0 and i_episode % 50 == 0:\n",
        "                        self.plot_durations(is_testing=True)\n",
        "                    print(\"Episode finished after {} timesteps\".format(t+1))\n",
        "                    break\n",
        "                state = next_state\n",
        "\n",
        "        print('Testing completed')"
      ]
    },
    {
      "cell_type": "markdown",
      "metadata": {
        "id": "7_JSQkZO0bGO"
      },
      "source": [
        "### Main loop\n",
        "Définition de l'environnement et de l'agent."
      ]
    },
    {
      "cell_type": "code",
      "execution_count": 11,
      "metadata": {
        "id": "qJuN2Aim0bGP"
      },
      "outputs": [],
      "source": [
        "env = gym.make('CartPole-v0').unwrapped\n",
        "env.reset()\n",
        "\n",
        "from pyvirtualdisplay import Display\n",
        "display = Display(visible=0, size=(400, 300))\n",
        "display.start()\n",
        "\n",
        "agent = Agent(env, num_episodes=2000, num_episodes_test=100)"
      ]
    },
    {
      "cell_type": "markdown",
      "metadata": {
        "id": "dsqlLgW60bGQ"
      },
      "source": [
        "On entraîne cet agent. On observe les résulats de l'entraînement sur les graphes ci-dessous. \n",
        "\n",
        "Etant donné l'augmentation du temps entre chaque épisode l'entraînement de l'agent semble s'être correctement effectué."
      ]
    },
    {
      "cell_type": "code",
      "execution_count": 12,
      "metadata": {
        "colab": {
          "base_uri": "https://localhost:8080/",
          "height": 383
        },
        "id": "3J86ZBdb0bGR",
        "outputId": "cc2e928f-cead-469b-c035-d91eb3ad029e"
      },
      "outputs": [
        {
          "output_type": "display_data",
          "data": {
            "text/plain": [
              "<Figure size 432x288 with 0 Axes>"
            ]
          },
          "metadata": {}
        },
        {
          "output_type": "display_data",
          "data": {
            "text/plain": [
              "<Figure size 432x288 with 0 Axes>"
            ]
          },
          "metadata": {}
        },
        {
          "output_type": "display_data",
          "data": {
            "image/png": "[encoded data removed]",
            "text/plain": [
              "<Figure size 432x288 with 2 Axes>"
            ]
          },
          "metadata": {
            "needs_background": "light"
          }
        },
        {
          "output_type": "stream",
          "name": "stderr",
          "text": [
            "/usr/local/lib/python3.7/dist-packages/ipykernel_launcher.py:86: UserWarning: indexing with dtype torch.uint8 is now deprecated, please use a dtype torch.bool instead. (Triggered internally at  ../aten/src/ATen/native/IndexingUtils.h:30.)\n"
          ]
        },
        {
          "output_type": "stream",
          "name": "stdout",
          "text": [
            "Training completed\n"
          ]
        }
      ],
      "source": [
        "# Training phase\n",
        "agent.train_policy_model()"
      ]
    },
    {
      "cell_type": "markdown",
      "metadata": {
        "id": "wSY2GZNP0bGS"
      },
      "source": [
        "On teste l'agent entrainé et on observe les résultats sur l'interface de CartPole. \n",
        "\n",
        "A ce moment nous sommes dans la phase d'exploitation il n'y a plus d'exploration de la part de l'agent."
      ]
    },
    {
      "cell_type": "code",
      "source": [
        "agent.load_model()\n",
        "agent.test(is_visible=False)"
      ],
      "metadata": {
        "colab": {
          "base_uri": "https://localhost:8080/",
          "height": 1000
        },
        "id": "Q_IBkLtvLVSV",
        "outputId": "9b529cb2-6544-48e6-920c-f567c954e2be"
      },
      "execution_count": 13,
      "outputs": [
        {
          "output_type": "display_data",
          "data": {
            "text/plain": [
              "<Figure size 432x288 with 0 Axes>"
            ]
          },
          "metadata": {}
        },
        {
          "output_type": "display_data",
          "data": {
            "text/plain": [
              "<Figure size 432x288 with 0 Axes>"
            ]
          },
          "metadata": {}
        },
        {
          "output_type": "display_data",
          "data": {
            "image/png": "[encoded data removed]",
            "text/plain": [
              "<Figure size 432x288 with 1 Axes>"
            ]
          },
          "metadata": {
            "needs_background": "light"
          }
        },
        {
          "output_type": "stream",
          "name": "stdout",
          "text": [
            "Episode finished after 89 timesteps\n",
            "episode: 51\n",
            "Episode finished after 21 timesteps\n",
            "episode: 52\n",
            "Episode finished after 86 timesteps\n",
            "episode: 53\n",
            "Episode finished after 40 timesteps\n",
            "episode: 54\n",
            "Episode finished after 85 timesteps\n",
            "episode: 55\n",
            "Episode finished after 14 timesteps\n",
            "episode: 56\n",
            "Episode finished after 89 timesteps\n",
            "episode: 57\n",
            "Episode finished after 45 timesteps\n",
            "episode: 58\n",
            "Episode finished after 90 timesteps\n",
            "episode: 59\n",
            "Episode finished after 88 timesteps\n",
            "episode: 60\n",
            "Episode finished after 86 timesteps\n",
            "episode: 61\n",
            "Episode finished after 90 timesteps\n",
            "episode: 62\n",
            "Episode finished after 90 timesteps\n",
            "episode: 63\n",
            "Episode finished after 89 timesteps\n",
            "episode: 64\n",
            "Episode finished after 14 timesteps\n",
            "episode: 65\n",
            "Episode finished after 24 timesteps\n",
            "episode: 66\n",
            "Episode finished after 23 timesteps\n",
            "episode: 67\n",
            "Episode finished after 90 timesteps\n",
            "episode: 68\n",
            "Episode finished after 86 timesteps\n",
            "episode: 69\n",
            "Episode finished after 16 timesteps\n",
            "episode: 70\n",
            "Episode finished after 19 timesteps\n",
            "episode: 71\n",
            "Episode finished after 85 timesteps\n",
            "episode: 72\n",
            "Episode finished after 90 timesteps\n",
            "episode: 73\n",
            "Episode finished after 85 timesteps\n",
            "episode: 74\n",
            "Episode finished after 16 timesteps\n",
            "episode: 75\n",
            "Episode finished after 91 timesteps\n",
            "episode: 76\n",
            "Episode finished after 88 timesteps\n",
            "episode: 77\n",
            "Episode finished after 23 timesteps\n",
            "episode: 78\n",
            "Episode finished after 18 timesteps\n",
            "episode: 79\n",
            "Episode finished after 86 timesteps\n",
            "episode: 80\n",
            "Episode finished after 87 timesteps\n",
            "episode: 81\n",
            "Episode finished after 90 timesteps\n",
            "episode: 82\n",
            "Episode finished after 85 timesteps\n",
            "episode: 83\n",
            "Episode finished after 19 timesteps\n",
            "episode: 84\n",
            "Episode finished after 19 timesteps\n",
            "episode: 85\n",
            "Episode finished after 91 timesteps\n",
            "episode: 86\n",
            "Episode finished after 86 timesteps\n",
            "episode: 87\n",
            "Episode finished after 16 timesteps\n",
            "episode: 88\n",
            "Episode finished after 85 timesteps\n",
            "episode: 89\n",
            "Episode finished after 90 timesteps\n",
            "episode: 90\n",
            "Episode finished after 30 timesteps\n",
            "episode: 91\n",
            "Episode finished after 89 timesteps\n",
            "episode: 92\n",
            "Episode finished after 88 timesteps\n",
            "episode: 93\n",
            "Episode finished after 91 timesteps\n",
            "episode: 94\n",
            "Episode finished after 17 timesteps\n",
            "episode: 95\n",
            "Episode finished after 85 timesteps\n",
            "episode: 96\n",
            "Episode finished after 87 timesteps\n",
            "episode: 97\n",
            "Episode finished after 17 timesteps\n",
            "episode: 98\n",
            "Episode finished after 91 timesteps\n",
            "episode: 99\n",
            "Episode finished after 18 timesteps\n",
            "Testing completed\n"
          ]
        }
      ]
    },
    {
      "cell_type": "markdown",
      "metadata": {
        "id": "f4K0iMd70bGT"
      },
      "source": [
        "On va comparer les résultats obtenus avec un agent naïf aléatoire. \n",
        "\n",
        "On observe nettement différence entre les performances (Nombre de timesteps de chaque épisode) de l'agent entraîné et l'agent naïf ce qui montre que la stratégie choisie par l'agent est bénéfique."
      ]
    },
    {
      "cell_type": "code",
      "execution_count": 14,
      "metadata": {
        "colab": {
          "base_uri": "https://localhost:8080/",
          "height": 1000
        },
        "id": "62Ns7xlC0bGU",
        "outputId": "e863ca18-84d2-410a-eb6b-79ed4c9e910e"
      },
      "outputs": [
        {
          "output_type": "display_data",
          "data": {
            "text/plain": [
              "<Figure size 432x288 with 0 Axes>"
            ]
          },
          "metadata": {}
        },
        {
          "output_type": "display_data",
          "data": {
            "text/plain": [
              "<Figure size 432x288 with 0 Axes>"
            ]
          },
          "metadata": {}
        },
        {
          "output_type": "display_data",
          "data": {
            "image/png": "[encoded data removed]",
            "text/plain": [
              "<Figure size 432x288 with 1 Axes>"
            ]
          },
          "metadata": {
            "needs_background": "light"
          }
        },
        {
          "output_type": "stream",
          "name": "stdout",
          "text": [
            "Episode finished after 20 timesteps\n",
            "episode: 51\n",
            "Episode finished after 54 timesteps\n",
            "episode: 52\n",
            "Episode finished after 27 timesteps\n",
            "episode: 53\n",
            "Episode finished after 22 timesteps\n",
            "episode: 54\n",
            "Episode finished after 14 timesteps\n",
            "episode: 55\n",
            "Episode finished after 17 timesteps\n",
            "episode: 56\n",
            "Episode finished after 23 timesteps\n",
            "episode: 57\n",
            "Episode finished after 42 timesteps\n",
            "episode: 58\n",
            "Episode finished after 15 timesteps\n",
            "episode: 59\n",
            "Episode finished after 15 timesteps\n",
            "episode: 60\n",
            "Episode finished after 11 timesteps\n",
            "episode: 61\n",
            "Episode finished after 16 timesteps\n",
            "episode: 62\n",
            "Episode finished after 11 timesteps\n",
            "episode: 63\n",
            "Episode finished after 14 timesteps\n",
            "episode: 64\n",
            "Episode finished after 11 timesteps\n",
            "episode: 65\n",
            "Episode finished after 13 timesteps\n",
            "episode: 66\n",
            "Episode finished after 16 timesteps\n",
            "episode: 67\n",
            "Episode finished after 12 timesteps\n",
            "episode: 68\n",
            "Episode finished after 58 timesteps\n",
            "episode: 69\n",
            "Episode finished after 24 timesteps\n",
            "episode: 70\n",
            "Episode finished after 24 timesteps\n",
            "episode: 71\n",
            "Episode finished after 13 timesteps\n",
            "episode: 72\n",
            "Episode finished after 21 timesteps\n",
            "episode: 73\n",
            "Episode finished after 14 timesteps\n",
            "episode: 74\n",
            "Episode finished after 22 timesteps\n",
            "episode: 75\n",
            "Episode finished after 11 timesteps\n",
            "episode: 76\n",
            "Episode finished after 30 timesteps\n",
            "episode: 77\n",
            "Episode finished after 19 timesteps\n",
            "episode: 78\n",
            "Episode finished after 19 timesteps\n",
            "episode: 79\n",
            "Episode finished after 11 timesteps\n",
            "episode: 80\n",
            "Episode finished after 11 timesteps\n",
            "episode: 81\n",
            "Episode finished after 39 timesteps\n",
            "episode: 82\n",
            "Episode finished after 15 timesteps\n",
            "episode: 83\n",
            "Episode finished after 13 timesteps\n",
            "episode: 84\n",
            "Episode finished after 23 timesteps\n",
            "episode: 85\n",
            "Episode finished after 18 timesteps\n",
            "episode: 86\n",
            "Episode finished after 31 timesteps\n",
            "episode: 87\n",
            "Episode finished after 54 timesteps\n",
            "episode: 88\n",
            "Episode finished after 38 timesteps\n",
            "episode: 89\n",
            "Episode finished after 27 timesteps\n",
            "episode: 90\n",
            "Episode finished after 20 timesteps\n",
            "episode: 91\n",
            "Episode finished after 11 timesteps\n",
            "episode: 92\n",
            "Episode finished after 16 timesteps\n",
            "episode: 93\n",
            "Episode finished after 28 timesteps\n",
            "episode: 94\n",
            "Episode finished after 15 timesteps\n",
            "episode: 95\n",
            "Episode finished after 43 timesteps\n",
            "episode: 96\n",
            "Episode finished after 50 timesteps\n",
            "episode: 97\n",
            "Episode finished after 28 timesteps\n",
            "episode: 98\n",
            "Episode finished after 13 timesteps\n",
            "episode: 99\n",
            "Episode finished after 15 timesteps\n",
            "Testing completed\n"
          ]
        }
      ],
      "source": [
        "#Random phase\n",
        "agent.load_model()\n",
        "agent.test(is_visible=False, is_random=True)"
      ]
    },
    {
      "cell_type": "markdown",
      "source": [
        "La représentation du Cart-Pole, et le nombre de steps réalisé pour un entrainement sur 1000 epochs."
      ],
      "metadata": {
        "id": "gd-vl4JCLuck"
      }
    },
    {
      "cell_type": "code",
      "execution_count": 15,
      "metadata": {
        "colab": {
          "base_uri": "https://localhost:8080/",
          "height": 556
        },
        "id": "PycgNFpr0bGT",
        "outputId": "3df84b1e-4ecd-4f98-ffee-ea503e2502df"
      },
      "outputs": [
        {
          "output_type": "display_data",
          "data": {
            "image/png": "[encoded data removed]",
            "text/plain": [
              "<Figure size 432x288 with 1 Axes>"
            ]
          },
          "metadata": {}
        },
        {
          "output_type": "stream",
          "name": "stdout",
          "text": [
            "Episode finished after 92 timesteps\n",
            "Testing completed\n"
          ]
        },
        {
          "output_type": "display_data",
          "data": {
            "image/png": "[encoded data removed]",
            "text/plain": [
              "<Figure size 432x288 with 1 Axes>"
            ]
          },
          "metadata": {
            "needs_background": "light"
          }
        }
      ],
      "source": [
        "# Show representation of the cart-Pole\n",
        "agent = Agent(env, num_episodes=1000, num_episodes_test=1)\n",
        "agent.load_model()\n",
        "agent.test(is_visible=True)"
      ]
    },
    {
      "cell_type": "code",
      "execution_count": 16,
      "metadata": {
        "id": "M4YljoQZ0bGV"
      },
      "outputs": [],
      "source": [
        "env.close()"
      ]
    },
    {
      "cell_type": "markdown",
      "metadata": {
        "id": "0jQ-G3l10bGW"
      },
      "source": [
        "## Deuxième cas d'application : le jeu Breakout\n"
      ]
    },
    {
      "cell_type": "markdown",
      "metadata": {
        "id": "5QMlyTnQuc0_"
      },
      "source": [
        "Breakout est un jeu d'arcade, commercialisé par Atari Inc. en 1976.\n",
        "\n",
        "Dans Breakout, plusieurs lignes de « briques » sont alignées dans le haut de l'écran de jeu. Une balle traverse l’écran, rebondissant sur les côtés et le haut. Lorsque la balle touche une brique, elle rebondit et la brique disparaît. Le joueur possède une raquette qu'il peut déplacer latéralement afin de faire rebondir la balle vers le haut. Il perd une vie quand la balle touche le bas de l’écran.\n",
        "\n",
        "Le contexte d'utilisation d'apprentissage par renforcement ici est qu'à partir d'une entré qui correspond à l'observation d'une séquence de 4 images consécutives afin d’avoir l’information de mouvement d'obtenir en sortie l'action à prendre, ie: se déplacer à gauche, à droite ou ne rien faire.\n",
        "\n",
        "Pour effectuer cela on utilisera ici ce qu'on appelle un DQ-learning (Deep Q-learning) signifiant que l'on aura plusieurs couches au réseau de neurones basé sur un réseau convolutif afin de pouvoir traiter directement les images.\n",
        "\n",
        "L'idée ici, est donc d'utiliser un Convolutionnal Neural Network (CNN) pour prendre en entrée les images du **jeu Breakout**, puis d'utiliser la sortie de ce CNN avec quelques couches de Fully Connected (FC) Layers, afin d'obtenir une décision sur l'action à prendre.\n",
        "\n",
        "Nous allons voir comment nous avons tenté de mettre cela en place, et malgré les résultats médiocres et non fonctionnels obtenus le cheminement pour y arriver est intéressant et nous à amené à réfléchir sur l'intérèt de l'entrainement.\n",
        "\n",
        "Premièrement, on importe des packages pour le traitement d'image du jeu Breakout. La conversion des images de RGB vers Gray (nuances de gris) permet de passer d'une image de format :\n",
        "- height x width x 3 channels (R,G,B) \n",
        "- A height x width x 1 channel. \n",
        "\n",
        "On effectue ce **prétraitement car pour notre problème, on considère que les couleurs ont peu d'importance**, c'est surtout la position des éléments qui est primordiale (balle, briques, barre).\n",
        "Cette **division par 3** de la dimension d'entrée permet de **réduire le nombre de paramètre** dans le premier Convolutional Layer, et donc **d'accélérer l'apprentissage** (la couleur n'étant pas importante ici)."
      ]
    },
    {
      "cell_type": "code",
      "execution_count": 17,
      "metadata": {
        "id": "ABeHemN30bGW"
      },
      "outputs": [],
      "source": [
        "# On importe ici des packages pour le traitement d'image du jeu Breakout\n",
        "from skimage.transform import resize\n",
        "from skimage.color import rgb2gray, rgba2rgb"
      ]
    },
    {
      "cell_type": "markdown",
      "metadata": {
        "id": "Zm5zqcUl0bGX"
      },
      "source": [
        "## ReplayMemory\n",
        "> Aucun changement par rapport à la première partie"
      ]
    },
    {
      "cell_type": "markdown",
      "metadata": {
        "id": "VvN5L-wX0bGX"
      },
      "source": [
        "## DQN\n",
        "Implémentation du Deep Q Network.On a un CNN avec **3 couches de convolution** toute suivie d'une batch normalization, puis d'une **couche Fully Connected** donnant les outputs potentielles.\n",
        "\n",
        "Les tailles de filtre et le pas étaient imposés. La fonction d'activation est ReLU (classique pour des couches convolutionnelles) et linéaires pour la couche fully connected."
      ]
    },
    {
      "cell_type": "code",
      "execution_count": 18,
      "metadata": {
        "id": "N_Meqnnf0bGY"
      },
      "outputs": [],
      "source": [
        "class DQN(nn.Module):\n",
        "    def __init__(self, num_frames, h, w, num_outputs):\n",
        "        super(DQN, self).__init__()\n",
        "        # 3 couches de convolution chacune suivie d'une batch normalization\n",
        "        # filtres de taille 5 pixels, pas de 2\n",
        "\n",
        "        # 16 filtres pour la première couche\n",
        "        self.conv1 = nn.Conv2d(num_frames, 16, kernel_size=5, stride=2)\n",
        "        self.bn1 = nn.BatchNorm2d(16)\n",
        "        # 32 filtres pour la deuxième\n",
        "        self.conv2 = nn.Conv2d(16, 32, kernel_size=5, stride=2)\n",
        "        self.bn2 = nn.BatchNorm2d(32)\n",
        "        # 64 pour la troisième\n",
        "        self.conv3 = nn.Conv2d(32, 64, kernel_size=5, stride=2)\n",
        "        self.bn3 = nn.BatchNorm2d(64)\n",
        "\n",
        "        # Finir par une couche fully connected\n",
        "        def conv2d_size_out(size, kernel_size = 5, stride = 2):\n",
        "            return (size - kernel_size) // stride  + 1\n",
        "        convw = conv2d_size_out(conv2d_size_out(conv2d_size_out(w)))\n",
        "        convh = conv2d_size_out(conv2d_size_out(conv2d_size_out(h)))\n",
        "        linear_input_size = convw * convh * 64\n",
        "        self.head = nn.Linear(linear_input_size, num_outputs)\n",
        "\n",
        "    def forward(self, x):\n",
        "        # Calcul de la passe avant :\n",
        "        x = x.to(device)\n",
        "        # Fonction d'activation relu pour les couches cachées\n",
        "        x = F.relu(self.bn1(self.conv1(x)))\n",
        "        x = F.relu(self.bn2(self.conv2(x)))\n",
        "        x = F.relu(self.bn3(self.conv3(x)))\n",
        "        # Fonction d'activation linéaire sur la couche de sortie\n",
        "        return self.head(x.view(x.size(0), -1))\n"
      ]
    },
    {
      "cell_type": "markdown",
      "metadata": {
        "id": "ND6Dwy0N0bGY"
      },
      "source": [
        "## Agent"
      ]
    },
    {
      "cell_type": "markdown",
      "metadata": {
        "id": "3RKb1f5j1AtG"
      },
      "source": [
        "On définit une nouvelle fois l'objet Agent. \n",
        "Les seuls changements ici sont liés au type d'input injéctée qui sotn des images (4) cette fois-ci c'est pourquoi on rajoute une fonction de processing d'image convertissant les images 3 canaux RGB en une matrice de nuance de gris. \n",
        "\n",
        "La stratégie suivie par l'agent est donnée par le réseau DQN défini précédemment. Nous avons mis 'num_episodes' en paramètres pour plus de souplesse dans nos tests. Nous avons toujours en place une espilon-greedy stratégie, avec un epsilon decay.\n",
        "\n",
        "Piru correctement définir les actions prises:\n",
        "-  **'NOOP' : Action = 0 : Il ne se passe rien (planche statique)**\n",
        "-  **'FIRE' : Action = 1 : Step de mouvement de la balle (montée ou descente ou rebond)**\n",
        "-  **'RIGHT' : Action = 2 : Déplacement vers la droite de la planche**\n",
        "-  **'LEFT' : Action = 3 : Déplacement vers la gauche de la planche** \\\n",
        "Une étape est donc constitué de : 2 actions : **Action = 1 + Action = 0, 2 ou 3**\n",
        "Donc le DQN doit seulement choisir entre 0, 2 et 3. \\\n",
        "Ci-dessous l'exemple de ce propos :"
      ]
    },
    {
      "cell_type": "code",
      "execution_count": 19,
      "metadata": {
        "colab": {
          "base_uri": "https://localhost:8080/"
        },
        "id": "Y5XtqYEXSogg",
        "outputId": "ccb9b76f-59be-4ac5-8b27-7f6ff4e66100"
      },
      "outputs": [
        {
          "output_type": "stream",
          "name": "stdout",
          "text": [
            "['NOOP', 'FIRE', 'RIGHT', 'LEFT']\n",
            "3\n"
          ]
        }
      ],
      "source": [
        "env = gym.make('Breakout-v0').unwrapped\n",
        "print(env.get_action_meanings())\n",
        "print(len([env.get_action_meanings()[0]]+ env.get_action_meanings()[2:4]))\n",
        "env.close()"
      ]
    },
    {
      "cell_type": "code",
      "execution_count": 20,
      "metadata": {
        "id": "Q82JrY6T0bGb"
      },
      "outputs": [],
      "source": [
        "class Agent:\n",
        "\n",
        "    def __init__(self,env, num_episodes=50, num_episodes_test = 2):\n",
        "        self.env = env\n",
        "        self.batch_size = 32 \n",
        "        self.gamma = 0.999\n",
        "        self.eps_start = 0.9\n",
        "        self.eps_end = 0.05\n",
        "        self.eps_decay = 1000\n",
        "        self.target_update = 10\n",
        "        self.num_episodes = num_episodes # Nombre d'epochs pour l'entrainement\n",
        "        self.num_episodes_test = num_episodes_test # Nombre d'epochs pour le test\n",
        "        self.num_frames = 4\n",
        "        self.im_height = 84\n",
        "        self.im_width = 84\n",
        "        self.actions = [self.env.get_action_meanings()[0]]+ self.env.get_action_meanings()[2:4]  # ['NOOP', 'RIGHT', 'LEFT'], soit 0, 1, 2\n",
        "        self.dict_action = {0:0, 1:2, 2:3} # 0, 1, 2 correspondent à action 0, 2, 3\n",
        "        self.n_actions = len(self.actions)  # 3 != env.action_space.n\n",
        "        self.actions_meaning = env.get_action_meanings() # ['NOOP', 'FIRE', 'RIGHT', 'LEFT']\n",
        "        self.action_ball = 1  # Action 'FIRE', dont le nom n'est pas explicite car correspond seulement au mouvement de la bille\n",
        "        self.episode_durations = []\n",
        "        self.policy_net = DQN(self.num_frames, self.im_height, self.im_width, self.n_actions).to(device)\n",
        "        self.target_net = DQN(self.num_frames, self.im_height, self.im_width, self.n_actions).to(device)\n",
        "        self.target_net.load_state_dict(self.policy_net.state_dict())\n",
        "        self.target_net.eval()\n",
        "        self.optimizer = optim.RMSprop(self.policy_net.parameters())\n",
        "        self.memory = ReplayMemory(10000)\n",
        "        self.steps_done = 0\n",
        "\n",
        "    def select_action(self, state, test=False, random_test=False): # Permet de sélectionner l'action à effectuer\n",
        "        sample = random.random()\n",
        "        if test == True: # Permet de prendre uniquement les actions déterminées par le réseau (Exploitation only pendant phase de test)\n",
        "            eps_threshold = 0\n",
        "        elif random_test == True: # Permet de prendre des actions aléatoires\n",
        "            eps_threshold = 1\n",
        "        else: # Epsilon-greedy strategy\n",
        "            eps_threshold = self.eps_end + (self.eps_start - self.eps_end) * \\\n",
        "               math.exp(-1. * self.steps_done / self.eps_decay)\n",
        "        self.steps_done += 1\n",
        "        if sample > eps_threshold: # Exploitation\n",
        "            # Calcul et renvoi de l'action fournie par le réseau\n",
        "            return self.policy_net.forward(state).max(1)[1].view(1, 1)\n",
        "        else: # Exploration\n",
        "            # Calcul et renvoi d'une action choisie aléatoirement\n",
        "            return torch.tensor([[random.randrange(self.n_actions)]], device=device, dtype=torch.long)\n",
        "\n",
        "    def plot_durations(self, is_testing=False):\n",
        "        \"Fonction de tracé de la performance (durée de chaque epochs, qui mesure environ la\\\n",
        "        performance. La mesure du score serait plus pertinente mais semblait plus complexe à mettre en place\"\n",
        "        if is_ipython:\n",
        "            ipythondisplay.clear_output(wait=True)\n",
        "            ipythondisplay.display(plt.gcf())\n",
        "        plt.figure(2)\n",
        "        plt.clf()\n",
        "        durations_t = torch.tensor(self.episode_durations, dtype=torch.float)\n",
        "        if is_testing:\n",
        "            plt.suptitle('Testing...')\n",
        "        else:\n",
        "            plt.suptitle('Training...')\n",
        "        plt.xlabel('Episode')\n",
        "        plt.ylabel('Duration')\n",
        "        plt.subplot(121)\n",
        "        plt.plot(durations_t.numpy(), color='b')\n",
        "\n",
        "        if len(durations_t) >= 100:\n",
        "            means = durations_t.unfold(0, 100, 1).mean(1).view(-1)\n",
        "            means = torch.cat((torch.zeros(99), means))\n",
        "            plt.subplot(122)\n",
        "            plt.plot(means.numpy(), color='m')\n",
        "        plt.pause(0.001)  # pause a bit so that plots are updated\n",
        "\n",
        "    def process(self, state): # On process l'image : RGB --> Gray, mise au format de Tensor pr Pytorch et traitement par CNN\n",
        "        state = resize(rgb2gray(state), (self.im_height, self.im_width), mode='reflect') * 255\n",
        "        state = state[np.newaxis, np.newaxis, :, :]\n",
        "        return torch.tensor(state, device=device, dtype=torch.float)\n",
        "\n",
        "    def optimize_model(self): # Fonction d'optimisation similaire à Partie 1\n",
        "        if len(self.memory) < self.batch_size:\n",
        "            return\n",
        "        transitions = self.memory.sample(self.batch_size)\n",
        "        batch = Transition(*zip(*transitions))\n",
        "        non_final_mask = torch.tensor(tuple(map(lambda s: s is not None,\n",
        "                                              batch.next_state)), device=device, dtype=torch.uint8) ## Modifié, originally torch.uint8\n",
        "        non_final_next_states = torch.cat([s for s in batch.next_state if s is not None])\n",
        "        state_batch = torch.cat(batch.state)\n",
        "        action_batch = torch.cat(batch.action)\n",
        "        reward_batch = torch.cat(batch.reward)\n",
        "\n",
        "        # Calcul de Q(s_t,a) : Q pour l'état courant\n",
        "        state_action_values = self.policy_net(state_batch).gather(1, action_batch)\n",
        "\n",
        "        # Calcul de Q pour l'état suivant\n",
        "        next_state_values = torch.zeros(self.batch_size, device=device)\n",
        "        next_state_values[non_final_mask] = self.target_net(non_final_next_states).max(1)[0].detach()\n",
        "        \n",
        "        # Calcul de Q future attendue cumulée\n",
        "        expected_state_action_values = (next_state_values * self.gamma) + reward_batch\n",
        "\n",
        "        # Calcul de la fonction de perte de Huber\n",
        "        criterion = nn.SmoothL1Loss()\n",
        "        loss = criterion(state_action_values, expected_state_action_values.unsqueeze(1))\n",
        "\n",
        "        # Optimisation du modèle - Optimiser RMS Prop\n",
        "        self.optimizer.zero_grad()\n",
        "        loss.backward()\n",
        "        for param in self.policy_net.parameters():\n",
        "            param.grad.data.clamp_(-1, 1)\n",
        "        self.optimizer.step()\n",
        "\n",
        "    def train_policy_model(self):  # Fonction d'entrainement du modèle\n",
        "        for i_episode in range(self.num_episodes): # Boucle sur nombre d'epochs\n",
        "            state = self.env.reset()\n",
        "            state = self.process(state)  # Process de l'image\n",
        "            for t in count():\n",
        "                while state.size()[1] < self.num_frames:  # On travaille sur les 4 dernières images\n",
        "                        # Mvmt de la bille     # Si nombre < 4 on 'attend' en déplacant juste la bille\n",
        "                        new_frame, reward, done, _ = env.step(self.action_ball)\n",
        "                        new_frame = self.process(new_frame)\n",
        "                        state = torch.cat([state, new_frame], 1)\n",
        "                action = self.select_action(state) # On choisi une action (0,1,2)\n",
        "                new_frame, reward_act, done, _ = self.env.step(self.dict_action[int(action.item())]) # On la convertie pour l'environnement (0,2,3) (exlut 'FIRE')\n",
        "                new_frame = self.process(new_frame)\n",
        "\n",
        "                new_ball_frame, reward_balle, done_ball, info = self.env.step(self.action_ball) # Mouvement balle 'Fire'\n",
        "                new_ball_frame = self.process(new_ball_frame)\n",
        "                reward = reward_balle + reward_act  # Pour des raisons non éclaircies, la reward intervient parfois avec reward_act, parfois avec reward_balle\n",
        "                if done or done_ball:\n",
        "                    new_state = None\n",
        "                else :\n",
        "                    new_state = torch.cat([state, new_ball_frame], 1)  # Changed new_frame in new_ball_frame\n",
        "                    new_state = new_state[:, 1:, :, :]\n",
        "                reward = torch.tensor([reward], device=device, dtype=torch.float)\n",
        "                self.memory.push(state, action, new_state, reward)\n",
        "                state = new_state\n",
        "                self.optimize_model()\n",
        "\n",
        "                if done or done_ball:\n",
        "                    self.episode_durations.append(t + 1)\n",
        "                    self.plot_durations()\n",
        "                    break\n",
        "\n",
        "            if i_episode % self.target_update == 0:  # Tracé de l'apprentissage\n",
        "                self.target_net.load_state_dict(self.policy_net.state_dict())\n",
        "                self.save_model()\n",
        "        self.save_model()\n",
        "        print('Training completed')\n",
        "        plt.show()\n",
        "\n",
        "    def save_model(self): # Sauvegarde du modèle\n",
        "        torch.save(self.policy_net.state_dict(), \"./dqn_model\")\n",
        "\n",
        "    def load_model(self): # Chargement du modèle sauvegardé\n",
        "        self.policy_net.load_state_dict(torch.load(\"./dqn_model\", map_location=device))\n",
        "\n",
        "    def test(self, is_visible=True, is_random=False):  # Fonction de test\n",
        "        print('Testing model:')\n",
        "        self.episode_durations = [] ##\n",
        "        for i_episode in range(self.num_episodes_test):\n",
        "            print('episode: {}'.format(i_episode))\n",
        "            state = self.env.reset()\n",
        "            state = self.process(state)\n",
        "            for t in count():\n",
        "                while state.size()[1] < self.num_frames: # On travaille sur les 4 dernières images\n",
        "                    # Mvmt de la bille     # Si nombre < 4 on 'attend' en déplacant juste la bille\n",
        "                    new_frame, reward, done, _ = env.step(self.action_ball)\n",
        "                    new_frame = self.process(new_frame)\n",
        "                    state = torch.cat([state, new_frame], 1)\n",
        "                    if is_visible: # Si 'Visible' est activé, on renvoie la visualisation de Breakout - ici pour voir le jeu dès le début.\n",
        "                      screen = self.env.render(mode='rgb_array')\n",
        "                      plt.imshow(screen)\n",
        "                      ipythondisplay.clear_output(wait=True)\n",
        "                      ipythondisplay.display(plt.gcf())\n",
        "                # Sélection d'une action appliquée à l'environnement\n",
        "                action = None\n",
        "                if is_random:\n",
        "                    action = self.select_action(state, random=is_random)  # Action aléatoire (0,1,2)\n",
        "                else:\n",
        "                    action = self.select_action(state, test=True)  # On choisi une action (0,1,2)\n",
        "                # et mise à jour de l'état\n",
        "                new_frame, reward_act, done, _ = self.env.step(self.dict_action[int(action.item())]) # On la convertie pour l'environnement (0,2,3) (exlut 'FIRE')\n",
        "                print(self.dict_action[int(action.item())])  # Pour vérifier la cohérence de l'affichage et des actions choisies on print l'action sélectionnée.\n",
        "                new_frame = self.process(new_frame) # No longer used\n",
        "\n",
        "                new_ball_frame, reward_balle, done_ball, info = self.env.step(self.action_ball) # Mouvement bille\n",
        "                new_ball_frame = self.process(new_ball_frame)\n",
        "                reward = reward_balle + reward_act\n",
        "                \n",
        "                if is_visible: # Si 'Visible' est activé, on renvoie la visualisation de Breakout\n",
        "                    screen = self.env.render(mode='rgb_array')\n",
        "                    plt.imshow(screen)\n",
        "                    ipythondisplay.clear_output(wait=True)\n",
        "                    ipythondisplay.display(plt.gcf())\n",
        "\n",
        "                if done or done_ball:\n",
        "                    new_state = None\n",
        "                else:\n",
        "                    new_state = torch.cat([state, new_ball_frame], 1)  # Changed new_frame in new_ball_frame\n",
        "                    new_state = new_state[:, 1:, :, :]\n",
        "                reward = torch.tensor([reward], device=device, dtype=torch.float)\n",
        "                self.memory.push(self.process(state), action, self.process(new_state) if not new_state is None else None, reward)\n",
        "                state = new_state\n",
        "\n",
        "                if done or done_ball:\n",
        "                    self.episode_durations.append(t + 1)\n",
        "                    if i_episode > 0:\n",
        "                        self.plot_durations(is_testing=True)\n",
        "                    print(\"Episode finished after {} timesteps\".format(t+1))\n",
        "                    break \n",
        "        print('Testing completed')"
      ]
    },
    {
      "cell_type": "markdown",
      "metadata": {
        "id": "BO0bFgPa0tm2"
      },
      "source": [
        "## Main Loop"
      ]
    },
    {
      "cell_type": "markdown",
      "source": [
        "On importe les modules nécessaires."
      ],
      "metadata": {
        "id": "x5oGU4LFdOkX"
      }
    },
    {
      "cell_type": "code",
      "execution_count": 21,
      "metadata": {
        "colab": {
          "base_uri": "https://localhost:8080/"
        },
        "id": "msJCnH-iZez6",
        "outputId": "13acbc82-50aa-4e36-af26-7e1a50c85f37"
      },
      "outputs": [
        {
          "output_type": "execute_result",
          "data": {
            "text/plain": [
              "<matplotlib.pyplot._IonContext at 0x7f8c8b623210>"
            ]
          },
          "metadata": {},
          "execution_count": 21
        }
      ],
      "source": [
        "import gym\n",
        "import numpy as np\n",
        "import matplotlib.pyplot as plt\n",
        "from IPython import display as ipythondisplay\n",
        "# set up matplotlib\n",
        "is_ipython = 'inline' in matplotlib.get_backend()\n",
        "if is_ipython:\n",
        "    from IPython import display\n",
        "plt.ion()"
      ]
    },
    {
      "cell_type": "markdown",
      "source": [
        "Test de visualisation."
      ],
      "metadata": {
        "id": "RCEMCGB1dYxG"
      }
    },
    {
      "cell_type": "code",
      "execution_count": 22,
      "metadata": {
        "colab": {
          "base_uri": "https://localhost:8080/",
          "height": 521
        },
        "id": "T217qZMLZjbT",
        "outputId": "0cd6ec51-6a29-4464-ac8a-c07b53eaa267"
      },
      "outputs": [
        {
          "output_type": "display_data",
          "data": {
            "image/png": "[encoded data removed]",
            "text/plain": [
              "<Figure size 432x288 with 1 Axes>"
            ]
          },
          "metadata": {}
        },
        {
          "output_type": "display_data",
          "data": {
            "image/png": "[encoded data removed]",
            "text/plain": [
              "<Figure size 432x288 with 1 Axes>"
            ]
          },
          "metadata": {
            "needs_background": "light"
          }
        }
      ],
      "source": [
        "from pyvirtualdisplay import Display\n",
        "display = Display(visible=0, size=(400,300))\n",
        "display.start()\n",
        "\n",
        "env = gym.make('Breakout-v0').unwrapped\n",
        "env.reset()\n",
        "prev_screen = env.render(mode=\"rgb_array\")\n",
        "plt.imshow(prev_screen)\n",
        "tot_r = 0\n",
        "tot_r2 = 0\n",
        "print(env.action_space.contains(3))\n",
        "\n",
        "print(env.metadata)\n",
        "\n",
        "for i in range(10):\n",
        "  action = 1\n",
        "  obs, reward, done, info = env.step(action)\n",
        "  tot_r += reward\n",
        "  action2 = env.action_space.sample()\n",
        "  obs, reward2, done, info = env.step(action2)\n",
        "  tot_r2 += reward2\n",
        "  screen = env.render(mode='rgb_array')\n",
        "  plt.imshow(screen)\n",
        "  ipythondisplay.clear_output(wait=True)\n",
        "  ipythondisplay.display(plt.gcf())\n",
        "  plt.pause(0.1)\n",
        "\n",
        "  if done:\n",
        "    print(tot_r)\n",
        "    print(tot_r2)\n",
        "    break\n",
        "\n",
        "  # 0 : Il ne se passe rien\n",
        "  # 1 : Step de descente de la balle\n",
        "  # 2 : Déplacement vers la droite\n",
        "  # 3 : Déplacement vers la gauche\n",
        "  # Done : Only quand les 5 vies sont passées\n",
        "  # Pas de reward neg lors de la perte de vie\n",
        "  # Pas de reward positive lors du cassage de brique ou renvoi de la balle\n",
        "  # Reward positive de 1 lorsque cassage de brique :  "
      ]
    },
    {
      "cell_type": "markdown",
      "metadata": {
        "id": "_RLQ-FpFc12l"
      },
      "source": [
        "# Training de l'agent"
      ]
    },
    {
      "cell_type": "markdown",
      "source": [
        "Les résultats de l'agent sont très aléatoires, ce phénomène s'explique notamment par la situation suivante: quand la barre se bloque dans un coin (droite ou gauche), sur les 5 vies de la partie, il y a très souvent une intialisation qui envoie la balle dans un de ces coins --> La bille rebondit et une reward est obtenue lorsque la brique est cassée.\n",
        "\n",
        "Comme observé sur les phases de test l'agent a tendance à se bloquer dans un coin car il juge que c'est la stratégie qui lui donnera la meilleure reward (on peut penser que le réseau DQN est bloqué dans un minimum local ne permettant pas d'autre prise de décision). Une solution à cela serait d'augmenter la complexité d'entraînement pour forcer la descente de gradient à sortir de ce minimum local ou alors d'agir sur l'environnement en modifiant l'initialisation de la direction de la bille.\n",
        "\n",
        "Afin de résoudre ce problème la variation de l'eps_decay peut-être une solution pour essayer de modifier la stratégie choisie par l'agent (ie prévenir l'algorithme d'apprentissage de tomber dans un minimum local). On va donc augmenter l'eps_decay.\n",
        "\n"
      ],
      "metadata": {
        "id": "RYCBY4MQkf7L"
      }
    },
    {
      "cell_type": "markdown",
      "source": [
        "## Training with eps_decay = 200\n",
        "Le nombre de time steps est seulement dû au temps que la bille met pour descendre et aux 5 vies. \n",
        "\n",
        "L'algorithme n'apprend pas une statégie performante.\n",
        "\n",
        "![eps_decay_200.PNG](data:image/png;base64,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)"
      ],
      "metadata": {
        "id": "KTZ--feCNa9e"
      }
    },
    {
      "cell_type": "markdown",
      "source": [
        "## Training with eps_decay = 10000\n",
        "On observe peu de différence avec l'entrainement précédent. \n",
        "\n",
        "Le nombre de time steps est seulement dû au temps que la bille met pour descendre et aux 5 vies.\n",
        "\n",
        "![eps_decay_10000.PNG](data:image/png;base64,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)"
      ],
      "metadata": {
        "id": "dRaIospzcaSD"
      }
    },
    {
      "cell_type": "markdown",
      "source": [
        "## Training with eps_decay = 10000."
      ],
      "metadata": {
        "id": "wTgTW1knMuEe"
      }
    },
    {
      "cell_type": "code",
      "execution_count": 23,
      "metadata": {
        "colab": {
          "base_uri": "https://localhost:8080/",
          "height": 346
        },
        "id": "JdM47DZeCY1g",
        "outputId": "1941b541-bc51-4bb1-ee40-cdd29108498d"
      },
      "outputs": [
        {
          "output_type": "display_data",
          "data": {
            "text/plain": [
              "<Figure size 432x288 with 0 Axes>"
            ]
          },
          "metadata": {}
        },
        {
          "output_type": "display_data",
          "data": {
            "text/plain": [
              "<Figure size 432x288 with 0 Axes>"
            ]
          },
          "metadata": {}
        },
        {
          "output_type": "display_data",
          "data": {
            "image/png": "[encoded data removed]",
            "text/plain": [
              "<Figure size 432x288 with 2 Axes>"
            ]
          },
          "metadata": {
            "needs_background": "light"
          }
        },
        {
          "output_type": "stream",
          "name": "stdout",
          "text": [
            "Training completed\n"
          ]
        }
      ],
      "source": [
        "env = gym.make('Breakout-v0').unwrapped\n",
        "env.reset()\n",
        "agent = Agent(env, num_episodes=250, num_episodes_test=1)\n",
        "\n",
        "# Training phase\n",
        "agent.train_policy_model()"
      ]
    },
    {
      "cell_type": "markdown",
      "metadata": {
        "id": "G94fcomizcSD"
      },
      "source": [
        "# Testing de l'agent"
      ]
    },
    {
      "cell_type": "code",
      "execution_count": 24,
      "metadata": {
        "id": "M-YpFqZ9G1kY",
        "colab": {
          "base_uri": "https://localhost:8080/",
          "height": 887
        },
        "outputId": "26bb3b4d-8de4-4a30-8056-1de66a3b6dd6"
      },
      "outputs": [
        {
          "output_type": "display_data",
          "data": {
            "image/png": "[encoded data removed]",
            "text/plain": [
              "<Figure size 432x288 with 1 Axes>"
            ]
          },
          "metadata": {}
        },
        {
          "output_type": "stream",
          "name": "stderr",
          "text": [
            "/usr/local/lib/python3.7/dist-packages/ipykernel_launcher.py:71: FutureWarning: Non RGB image conversion is now deprecated. For RGBA images, please use rgb2gray(rgba2rgb(rgb)) instead. In version 0.19, a ValueError will be raised if input image last dimension length is not 3.\n"
          ]
        },
        {
          "output_type": "error",
          "ename": "TypeError",
          "evalue": "ignored",
          "traceback": [
            "\u001b[0;31m---------------------------------------------------------------------------\u001b[0m",
            "\u001b[0;31mTypeError\u001b[0m                                 Traceback (most recent call last)",
            "\u001b[0;32m<ipython-input-24-df54af748682>\u001b[0m in \u001b[0;36m<module>\u001b[0;34m()\u001b[0m\n\u001b[1;32m      1\u001b[0m \u001b[0;31m#Testing phase\u001b[0m\u001b[0;34m\u001b[0m\u001b[0;34m\u001b[0m\u001b[0;34m\u001b[0m\u001b[0m\n\u001b[1;32m      2\u001b[0m \u001b[0magent\u001b[0m\u001b[0;34m.\u001b[0m\u001b[0mload_model\u001b[0m\u001b[0;34m(\u001b[0m\u001b[0;34m)\u001b[0m\u001b[0;34m\u001b[0m\u001b[0;34m\u001b[0m\u001b[0m\n\u001b[0;32m----> 3\u001b[0;31m \u001b[0magent\u001b[0m\u001b[0;34m.\u001b[0m\u001b[0mtest\u001b[0m\u001b[0;34m(\u001b[0m\u001b[0;34m)\u001b[0m\u001b[0;34m\u001b[0m\u001b[0;34m\u001b[0m\u001b[0m\n\u001b[0m",
            "\u001b[0;32m<ipython-input-20-de94e97d7b9a>\u001b[0m in \u001b[0;36mtest\u001b[0;34m(self, is_visible, is_random)\u001b[0m\n\u001b[1;32m    196\u001b[0m                     \u001b[0mnew_state\u001b[0m \u001b[0;34m=\u001b[0m \u001b[0mnew_state\u001b[0m\u001b[0;34m[\u001b[0m\u001b[0;34m:\u001b[0m\u001b[0;34m,\u001b[0m \u001b[0;36m1\u001b[0m\u001b[0;34m:\u001b[0m\u001b[0;34m,\u001b[0m \u001b[0;34m:\u001b[0m\u001b[0;34m,\u001b[0m \u001b[0;34m:\u001b[0m\u001b[0;34m]\u001b[0m\u001b[0;34m\u001b[0m\u001b[0;34m\u001b[0m\u001b[0m\n\u001b[1;32m    197\u001b[0m                 \u001b[0mreward\u001b[0m \u001b[0;34m=\u001b[0m \u001b[0mtorch\u001b[0m\u001b[0;34m.\u001b[0m\u001b[0mtensor\u001b[0m\u001b[0;34m(\u001b[0m\u001b[0;34m[\u001b[0m\u001b[0mreward\u001b[0m\u001b[0;34m]\u001b[0m\u001b[0;34m,\u001b[0m \u001b[0mdevice\u001b[0m\u001b[0;34m=\u001b[0m\u001b[0mdevice\u001b[0m\u001b[0;34m,\u001b[0m \u001b[0mdtype\u001b[0m\u001b[0;34m=\u001b[0m\u001b[0mtorch\u001b[0m\u001b[0;34m.\u001b[0m\u001b[0mfloat\u001b[0m\u001b[0;34m)\u001b[0m\u001b[0;34m\u001b[0m\u001b[0;34m\u001b[0m\u001b[0m\n\u001b[0;32m--> 198\u001b[0;31m                 \u001b[0mself\u001b[0m\u001b[0;34m.\u001b[0m\u001b[0mmemory\u001b[0m\u001b[0;34m.\u001b[0m\u001b[0mpush\u001b[0m\u001b[0;34m(\u001b[0m\u001b[0mself\u001b[0m\u001b[0;34m.\u001b[0m\u001b[0mprocess\u001b[0m\u001b[0;34m(\u001b[0m\u001b[0mstate\u001b[0m\u001b[0;34m)\u001b[0m\u001b[0;34m,\u001b[0m \u001b[0maction\u001b[0m\u001b[0;34m,\u001b[0m \u001b[0mself\u001b[0m\u001b[0;34m.\u001b[0m\u001b[0mprocess\u001b[0m\u001b[0;34m(\u001b[0m\u001b[0mnew_state\u001b[0m\u001b[0;34m)\u001b[0m \u001b[0;32mif\u001b[0m \u001b[0;32mnot\u001b[0m \u001b[0mnew_state\u001b[0m \u001b[0;32mis\u001b[0m \u001b[0;32mNone\u001b[0m \u001b[0;32melse\u001b[0m \u001b[0;32mNone\u001b[0m\u001b[0;34m,\u001b[0m \u001b[0mreward\u001b[0m\u001b[0;34m)\u001b[0m\u001b[0;34m\u001b[0m\u001b[0;34m\u001b[0m\u001b[0m\n\u001b[0m\u001b[1;32m    199\u001b[0m                 \u001b[0mstate\u001b[0m \u001b[0;34m=\u001b[0m \u001b[0mnew_state\u001b[0m\u001b[0;34m\u001b[0m\u001b[0;34m\u001b[0m\u001b[0m\n\u001b[1;32m    200\u001b[0m \u001b[0;34m\u001b[0m\u001b[0m\n",
            "\u001b[0;32m<ipython-input-20-de94e97d7b9a>\u001b[0m in \u001b[0;36mprocess\u001b[0;34m(self, state)\u001b[0m\n\u001b[1;32m     69\u001b[0m \u001b[0;34m\u001b[0m\u001b[0m\n\u001b[1;32m     70\u001b[0m     \u001b[0;32mdef\u001b[0m \u001b[0mprocess\u001b[0m\u001b[0;34m(\u001b[0m\u001b[0mself\u001b[0m\u001b[0;34m,\u001b[0m \u001b[0mstate\u001b[0m\u001b[0;34m)\u001b[0m\u001b[0;34m:\u001b[0m \u001b[0;31m# On process l'image : RGB --> Gray, mise au format de Tensor pr Pytorch et traitement par CNN\u001b[0m\u001b[0;34m\u001b[0m\u001b[0;34m\u001b[0m\u001b[0m\n\u001b[0;32m---> 71\u001b[0;31m         \u001b[0mstate\u001b[0m \u001b[0;34m=\u001b[0m \u001b[0mresize\u001b[0m\u001b[0;34m(\u001b[0m\u001b[0mrgb2gray\u001b[0m\u001b[0;34m(\u001b[0m\u001b[0mstate\u001b[0m\u001b[0;34m)\u001b[0m\u001b[0;34m,\u001b[0m \u001b[0;34m(\u001b[0m\u001b[0mself\u001b[0m\u001b[0;34m.\u001b[0m\u001b[0mim_height\u001b[0m\u001b[0;34m,\u001b[0m \u001b[0mself\u001b[0m\u001b[0;34m.\u001b[0m\u001b[0mim_width\u001b[0m\u001b[0;34m)\u001b[0m\u001b[0;34m,\u001b[0m \u001b[0mmode\u001b[0m\u001b[0;34m=\u001b[0m\u001b[0;34m'reflect'\u001b[0m\u001b[0;34m)\u001b[0m \u001b[0;34m*\u001b[0m \u001b[0;36m255\u001b[0m\u001b[0;34m\u001b[0m\u001b[0;34m\u001b[0m\u001b[0m\n\u001b[0m\u001b[1;32m     72\u001b[0m         \u001b[0mstate\u001b[0m \u001b[0;34m=\u001b[0m \u001b[0mstate\u001b[0m\u001b[0;34m[\u001b[0m\u001b[0mnp\u001b[0m\u001b[0;34m.\u001b[0m\u001b[0mnewaxis\u001b[0m\u001b[0;34m,\u001b[0m \u001b[0mnp\u001b[0m\u001b[0;34m.\u001b[0m\u001b[0mnewaxis\u001b[0m\u001b[0;34m,\u001b[0m \u001b[0;34m:\u001b[0m\u001b[0;34m,\u001b[0m \u001b[0;34m:\u001b[0m\u001b[0;34m]\u001b[0m\u001b[0;34m\u001b[0m\u001b[0;34m\u001b[0m\u001b[0m\n\u001b[1;32m     73\u001b[0m         \u001b[0;32mreturn\u001b[0m \u001b[0mtorch\u001b[0m\u001b[0;34m.\u001b[0m\u001b[0mtensor\u001b[0m\u001b[0;34m(\u001b[0m\u001b[0mstate\u001b[0m\u001b[0;34m,\u001b[0m \u001b[0mdevice\u001b[0m\u001b[0;34m=\u001b[0m\u001b[0mdevice\u001b[0m\u001b[0;34m,\u001b[0m \u001b[0mdtype\u001b[0m\u001b[0;34m=\u001b[0m\u001b[0mtorch\u001b[0m\u001b[0;34m.\u001b[0m\u001b[0mfloat\u001b[0m\u001b[0;34m)\u001b[0m\u001b[0;34m\u001b[0m\u001b[0;34m\u001b[0m\u001b[0m\n",
            "\u001b[0;32m/usr/local/lib/python3.7/dist-packages/skimage/color/colorconv.py\u001b[0m in \u001b[0;36mrgb2gray\u001b[0;34m(rgb)\u001b[0m\n\u001b[1;32m    783\u001b[0m         \u001b[0mrgb\u001b[0m \u001b[0;34m=\u001b[0m \u001b[0mrgb\u001b[0m\u001b[0;34m[\u001b[0m\u001b[0;34m...\u001b[0m\u001b[0;34m,\u001b[0m \u001b[0;34m:\u001b[0m\u001b[0;36m3\u001b[0m\u001b[0;34m]\u001b[0m\u001b[0;34m\u001b[0m\u001b[0;34m\u001b[0m\u001b[0m\n\u001b[1;32m    784\u001b[0m \u001b[0;34m\u001b[0m\u001b[0m\n\u001b[0;32m--> 785\u001b[0;31m     \u001b[0mrgb\u001b[0m \u001b[0;34m=\u001b[0m \u001b[0m_prepare_colorarray\u001b[0m\u001b[0;34m(\u001b[0m\u001b[0mrgb\u001b[0m\u001b[0;34m)\u001b[0m\u001b[0;34m\u001b[0m\u001b[0;34m\u001b[0m\u001b[0m\n\u001b[0m\u001b[1;32m    786\u001b[0m     \u001b[0mcoeffs\u001b[0m \u001b[0;34m=\u001b[0m \u001b[0mnp\u001b[0m\u001b[0;34m.\u001b[0m\u001b[0marray\u001b[0m\u001b[0;34m(\u001b[0m\u001b[0;34m[\u001b[0m\u001b[0;36m0.2125\u001b[0m\u001b[0;34m,\u001b[0m \u001b[0;36m0.7154\u001b[0m\u001b[0;34m,\u001b[0m \u001b[0;36m0.0721\u001b[0m\u001b[0;34m]\u001b[0m\u001b[0;34m,\u001b[0m \u001b[0mdtype\u001b[0m\u001b[0;34m=\u001b[0m\u001b[0mrgb\u001b[0m\u001b[0;34m.\u001b[0m\u001b[0mdtype\u001b[0m\u001b[0;34m)\u001b[0m\u001b[0;34m\u001b[0m\u001b[0;34m\u001b[0m\u001b[0m\n\u001b[1;32m    787\u001b[0m     \u001b[0;32mreturn\u001b[0m \u001b[0mrgb\u001b[0m \u001b[0;34m@\u001b[0m \u001b[0mcoeffs\u001b[0m\u001b[0;34m\u001b[0m\u001b[0;34m\u001b[0m\u001b[0m\n",
            "\u001b[0;32m/usr/local/lib/python3.7/dist-packages/skimage/color/colorconv.py\u001b[0m in \u001b[0;36m_prepare_colorarray\u001b[0;34m(arr, force_copy)\u001b[0m\n\u001b[1;32m    120\u001b[0m     \u001b[0mfloating\u001b[0m \u001b[0mpoint\u001b[0m \u001b[0mrepresentation\u001b[0m\u001b[0;34m.\u001b[0m\u001b[0;34m\u001b[0m\u001b[0;34m\u001b[0m\u001b[0m\n\u001b[1;32m    121\u001b[0m     \"\"\"\n\u001b[0;32m--> 122\u001b[0;31m     \u001b[0marr\u001b[0m \u001b[0;34m=\u001b[0m \u001b[0mnp\u001b[0m\u001b[0;34m.\u001b[0m\u001b[0masanyarray\u001b[0m\u001b[0;34m(\u001b[0m\u001b[0marr\u001b[0m\u001b[0;34m)\u001b[0m\u001b[0;34m\u001b[0m\u001b[0;34m\u001b[0m\u001b[0m\n\u001b[0m\u001b[1;32m    123\u001b[0m \u001b[0;34m\u001b[0m\u001b[0m\n\u001b[1;32m    124\u001b[0m     \u001b[0;32mif\u001b[0m \u001b[0marr\u001b[0m\u001b[0;34m.\u001b[0m\u001b[0mshape\u001b[0m\u001b[0;34m[\u001b[0m\u001b[0;34m-\u001b[0m\u001b[0;36m1\u001b[0m\u001b[0;34m]\u001b[0m \u001b[0;34m!=\u001b[0m \u001b[0;36m3\u001b[0m\u001b[0;34m:\u001b[0m\u001b[0;34m\u001b[0m\u001b[0;34m\u001b[0m\u001b[0m\n",
            "\u001b[0;32m/usr/local/lib/python3.7/dist-packages/numpy/core/_asarray.py\u001b[0m in \u001b[0;36masanyarray\u001b[0;34m(a, dtype, order)\u001b[0m\n\u001b[1;32m    134\u001b[0m \u001b[0;34m\u001b[0m\u001b[0m\n\u001b[1;32m    135\u001b[0m     \"\"\"\n\u001b[0;32m--> 136\u001b[0;31m     \u001b[0;32mreturn\u001b[0m \u001b[0marray\u001b[0m\u001b[0;34m(\u001b[0m\u001b[0ma\u001b[0m\u001b[0;34m,\u001b[0m \u001b[0mdtype\u001b[0m\u001b[0;34m,\u001b[0m \u001b[0mcopy\u001b[0m\u001b[0;34m=\u001b[0m\u001b[0;32mFalse\u001b[0m\u001b[0;34m,\u001b[0m \u001b[0morder\u001b[0m\u001b[0;34m=\u001b[0m\u001b[0morder\u001b[0m\u001b[0;34m,\u001b[0m \u001b[0msubok\u001b[0m\u001b[0;34m=\u001b[0m\u001b[0;32mTrue\u001b[0m\u001b[0;34m)\u001b[0m\u001b[0;34m\u001b[0m\u001b[0;34m\u001b[0m\u001b[0m\n\u001b[0m\u001b[1;32m    137\u001b[0m \u001b[0;34m\u001b[0m\u001b[0m\n\u001b[1;32m    138\u001b[0m \u001b[0;34m\u001b[0m\u001b[0m\n",
            "\u001b[0;32m/usr/local/lib/python3.7/dist-packages/torch/_tensor.py\u001b[0m in \u001b[0;36m__array__\u001b[0;34m(self, dtype)\u001b[0m\n\u001b[1;32m    676\u001b[0m             \u001b[0;32mreturn\u001b[0m \u001b[0mhandle_torch_function\u001b[0m\u001b[0;34m(\u001b[0m\u001b[0mTensor\u001b[0m\u001b[0;34m.\u001b[0m\u001b[0m__array__\u001b[0m\u001b[0;34m,\u001b[0m \u001b[0;34m(\u001b[0m\u001b[0mself\u001b[0m\u001b[0;34m,\u001b[0m\u001b[0;34m)\u001b[0m\u001b[0;34m,\u001b[0m \u001b[0mself\u001b[0m\u001b[0;34m,\u001b[0m \u001b[0mdtype\u001b[0m\u001b[0;34m=\u001b[0m\u001b[0mdtype\u001b[0m\u001b[0;34m)\u001b[0m\u001b[0;34m\u001b[0m\u001b[0;34m\u001b[0m\u001b[0m\n\u001b[1;32m    677\u001b[0m         \u001b[0;32mif\u001b[0m \u001b[0mdtype\u001b[0m \u001b[0;32mis\u001b[0m \u001b[0;32mNone\u001b[0m\u001b[0;34m:\u001b[0m\u001b[0;34m\u001b[0m\u001b[0;34m\u001b[0m\u001b[0m\n\u001b[0;32m--> 678\u001b[0;31m             \u001b[0;32mreturn\u001b[0m \u001b[0mself\u001b[0m\u001b[0;34m.\u001b[0m\u001b[0mnumpy\u001b[0m\u001b[0;34m(\u001b[0m\u001b[0;34m)\u001b[0m\u001b[0;34m\u001b[0m\u001b[0;34m\u001b[0m\u001b[0m\n\u001b[0m\u001b[1;32m    679\u001b[0m         \u001b[0;32melse\u001b[0m\u001b[0;34m:\u001b[0m\u001b[0;34m\u001b[0m\u001b[0;34m\u001b[0m\u001b[0m\n\u001b[1;32m    680\u001b[0m             \u001b[0;32mreturn\u001b[0m \u001b[0mself\u001b[0m\u001b[0;34m.\u001b[0m\u001b[0mnumpy\u001b[0m\u001b[0;34m(\u001b[0m\u001b[0;34m)\u001b[0m\u001b[0;34m.\u001b[0m\u001b[0mastype\u001b[0m\u001b[0;34m(\u001b[0m\u001b[0mdtype\u001b[0m\u001b[0;34m,\u001b[0m \u001b[0mcopy\u001b[0m\u001b[0;34m=\u001b[0m\u001b[0;32mFalse\u001b[0m\u001b[0;34m)\u001b[0m\u001b[0;34m\u001b[0m\u001b[0;34m\u001b[0m\u001b[0m\n",
            "\u001b[0;31mTypeError\u001b[0m: can't convert cuda:0 device type tensor to numpy. Use Tensor.cpu() to copy the tensor to host memory first."
          ]
        },
        {
          "output_type": "display_data",
          "data": {
            "image/png": "[encoded data removed]",
            "text/plain": [
              "<Figure size 432x288 with 1 Axes>"
            ]
          },
          "metadata": {
            "needs_background": "light"
          }
        }
      ],
      "source": [
        "#Testing phase\n",
        "agent.load_model()\n",
        "agent.test()"
      ]
    },
    {
      "cell_type": "code",
      "execution_count": null,
      "metadata": {
        "id": "Auq37hq0J3uh"
      },
      "outputs": [],
      "source": [
        "ipythondisplay.clear_output(wait=True)\n",
        "env.close()"
      ]
    }
  ],
  "metadata": {
    "colab": {
      "collapsed_sections": [],
      "name": "TD3_RL_Thibaud_Miquel.ipynb",
      "provenance": []
    },
    "interpreter": {
      "hash": "a9ef4d2cdf93f0f254fe9065ef903cba2fdc7bfb20ca8a44c64b07b53bb12bbc"
    },
    "kernelspec": {
      "display_name": "Python 3 (ipykernel)",
      "language": "python",
      "name": "python3"
    },
    "language_info": {
      "codemirror_mode": {
        "name": "ipython",
        "version": 3
      },
      "file_extension": ".py",
      "mimetype": "text/x-python",
      "name": "python",
      "nbconvert_exporter": "python",
      "pygments_lexer": "ipython3",
      "version": "3.9.7"
    },
    "accelerator": "GPU"
  },
  "nbformat": 4,
  "nbformat_minor": 0
}