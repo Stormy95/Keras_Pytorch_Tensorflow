{
 "cells": [
  {
   "cell_type": "markdown",
   "metadata": {},
   "source": [
    "# BE - Semantic Segmentation\n",
    "## A Salt Identification Case Study"
   ]
  },
  {
   "cell_type": "markdown",
   "metadata": {},
   "source": [
    "# Import"
   ]
  },
  {
   "cell_type": "code",
   "execution_count": null,
   "metadata": {},
   "outputs": [],
   "source": [
    "import  numpy as np\n",
    "import cv2\n",
    "from matplotlib import pyplot as plt\n",
    "from scipy import ndimage\n",
    "import keras"
   ]
  },
  {
   "cell_type": "markdown",
   "metadata": {},
   "source": [
    "\n",
    "# Sommaire\n",
    "\n",
    "[I. Loading and exploring data](#Partie1) Inference\n",
    "\n",
    "[II. UNET Architecture and Training](#Partie2)\n",
    "- [II.1. Architecture definition](#Partie2.1)\n",
    "- [II.1. Training](#Partie2.2)\n",
    "\n",
    "[III. Inference](#Partie3)\n",
    "- [III.1. Training set](#Partie3.1)\n",
    "- [III.1. testing set](#Partie3.2)\n",
    "\n",
    "[IV. Questions](#Partie4)\n",
    "- [IV.1. Max pooling](#Partie4.1)\n",
    "- [IV.2. Skip Connections](#Partie4.2)\n",
    "- [IV.3. FCN and Auto-encoder](#Partie4.3)\n",
    "- [IV.4. Threshold for inference ](#Partie4.4)\n"
   ]
  }
 ],
 "metadata": {
  "interpreter": {
   "hash": "facb5e61a4394193cb0f4fe6a1e15649a9df4920ef6ba80a21095838ac15af6e"
  },
  "kernelspec": {
   "display_name": "Python 3.8.5 ('base')",
   "language": "python",
   "name": "python3"
  },
  "language_info": {
   "name": "python",
   "version": "3.8.5"
  },
  "orig_nbformat": 4
 },
 "nbformat": 4,
 "nbformat_minor": 2
}
