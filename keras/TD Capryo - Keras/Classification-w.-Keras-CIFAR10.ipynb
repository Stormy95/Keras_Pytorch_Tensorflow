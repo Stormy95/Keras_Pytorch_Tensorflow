{
 "cells": [
  {
   "cell_type": "code",
   "execution_count": 1,
   "id": "fb68ed0f",
   "metadata": {},
   "outputs": [],
   "source": [
    "import keras\n",
    "from keras.datasets import cifar10\n",
    "from keras.preprocessing.image import ImageDataGenerator\n",
    "from keras.models import Sequential\n",
    "from keras.layers import Dense, Dropout, Activation, Flatten\n",
    "from keras.layers import Conv2D, MaxPooling2D\n",
    "from keras.utils.np_utils import to_categorical\n",
    "\n",
    "import numpy as np\n",
    "import os\n",
    "import matplotlib.pyplot as plt\n",
    "import ssl\n",
    "ssl._create_default_https_context = ssl._create_unverified_context"
   ]
  },
  {
   "cell_type": "code",
   "execution_count": 2,
   "id": "b6b57197",
   "metadata": {},
   "outputs": [],
   "source": [
    "dropout = 0.25\n",
    "dense_layer_nodes = 100\n",
    "learn_rate = 0.08\n",
    "batch_size = 256\n",
    "epochs = 15\n",
    "\n",
    "class_names = ['airplane','automobile','bird','cat','deer',\n",
    "               'dog','frog','horse','ship','truck']\n",
    "\n",
    "(X_train, y_train_vect), (X_test, y_test_vect) = cifar10.load_data()\n",
    "\n",
    "# Convert class vectors to binary class matrices.\n",
    "y_train = to_categorical(y_train_vect)\n",
    "y_test = to_categorical(y_test_vect)\n",
    "nb_classes = y_test.shape[1]\n",
    "\n",
    "X_train = X_train.astype('float32') / 255.\n",
    "X_test = X_test.astype('float32') / 255."
   ]
  },
  {
   "cell_type": "code",
   "execution_count": 3,
   "id": "a6cd8b8e",
   "metadata": {},
   "outputs": [
    {
     "data": {
      "text/plain": [
       "<matplotlib.image.AxesImage at 0x17b27a92b20>"
      ]
     },
     "execution_count": 3,
     "metadata": {},
     "output_type": "execute_result"
    },
    {
     "data": {
      "image/png": "[encoded data removed]",
      "text/plain": [
       "<Figure size 432x288 with 1 Axes>"
      ]
     },
     "metadata": {
      "needs_background": "light"
     },
     "output_type": "display_data"
    }
   ],
   "source": [
    "plt.imshow(X_train[10])"
   ]
  },
  {
   "cell_type": "markdown",
   "id": "9c72afa1",
   "metadata": {},
   "source": [
    "## Attention ! Le input_shape doit absolument être de la forme input_shape=(width, height, channels). Si channels est à la fin, il y aura un défaut dans le MaxPooling"
   ]
  },
  {
   "cell_type": "code",
   "execution_count": 4,
   "id": "e186ea13",
   "metadata": {},
   "outputs": [],
   "source": [
    "model = Sequential()\n",
    "model.add(Conv2D(32, (3, 3), padding='same', input_shape=X_train.shape[1:], activation='relu'))\n",
    "model.add(MaxPooling2D(pool_size=(2, 2)))\n",
    "model.add(Dropout(dropout))\n",
    "model.add(Flatten())\n",
    "model.add(Dense(dense_layer_nodes, activation='relu'))\n",
    "model.add(Dropout(dropout))\n",
    "model.add(Dense(nb_classes, activation='softmax'))"
   ]
  },
  {
   "cell_type": "code",
   "execution_count": 5,
   "id": "7006a960",
   "metadata": {},
   "outputs": [],
   "source": [
    "model.compile(loss='categorical_crossentropy',\n",
    "              optimizer=\"adam\",\n",
    "              metrics=['accuracy'])"
   ]
  },
  {
   "cell_type": "code",
   "execution_count": 6,
   "id": "1e99703a",
   "metadata": {},
   "outputs": [
    {
     "name": "stdout",
     "output_type": "stream",
     "text": [
      "Epoch 1/2\n",
      "50/50 [==============================] - 45s 855ms/step - loss: 2.1064 - accuracy: 0.2234 - val_loss: 1.8456 - val_accuracy: 0.3664\n",
      "Epoch 2/2\n",
      "50/50 [==============================] - 28s 553ms/step - loss: 1.8060 - accuracy: 0.3455 - val_loss: 1.6344 - val_accuracy: 0.4363\n"
     ]
    },
    {
     "data": {
      "text/plain": [
       "<keras.callbacks.History at 0x17b2099cc70>"
      ]
     },
     "execution_count": 6,
     "metadata": {},
     "output_type": "execute_result"
    }
   ],
   "source": [
    "model.fit(X_train, y_train, epochs=1, verbose=1, batch_size=1000, validation_data=(X_test, y_test))"
   ]
  },
  {
   "cell_type": "code",
   "execution_count": 7,
   "id": "cfe847c6",
   "metadata": {},
   "outputs": [],
   "source": [
    "datagen = ImageDataGenerator()\n",
    "datagen.fit(X_train)"
   ]
  },
  {
   "cell_type": "code",
   "execution_count": 8,
   "id": "e0d6a4f4",
   "metadata": {},
   "outputs": [
    {
     "name": "stdout",
     "output_type": "stream",
     "text": [
      "Epoch 1/15\n",
      "195/195 [==============================] - 26s 131ms/step - loss: 1.6134 - accuracy: 0.4125 - val_loss: 1.4242 - val_accuracy: 0.4982\n",
      "Epoch 2/15\n",
      "195/195 [==============================] - 26s 131ms/step - loss: 1.4695 - accuracy: 0.4662 - val_loss: 1.3213 - val_accuracy: 0.5354\n",
      "Epoch 3/15\n",
      "195/195 [==============================] - 26s 133ms/step - loss: 1.3931 - accuracy: 0.4967 - val_loss: 1.2683 - val_accuracy: 0.5548\n",
      "Epoch 4/15\n",
      "195/195 [==============================] - 26s 132ms/step - loss: 1.3461 - accuracy: 0.5202 - val_loss: 1.2205 - val_accuracy: 0.5671\n",
      "Epoch 5/15\n",
      "195/195 [==============================] - 26s 132ms/step - loss: 1.3040 - accuracy: 0.5307 - val_loss: 1.2024 - val_accuracy: 0.5775\n",
      "Epoch 6/15\n",
      "195/195 [==============================] - 26s 132ms/step - loss: 1.2714 - accuracy: 0.5424 - val_loss: 1.1754 - val_accuracy: 0.5818\n",
      "Epoch 7/15\n",
      "195/195 [==============================] - 26s 132ms/step - loss: 1.2443 - accuracy: 0.5501 - val_loss: 1.1536 - val_accuracy: 0.5975\n",
      "Epoch 8/15\n",
      "195/195 [==============================] - 26s 131ms/step - loss: 1.2118 - accuracy: 0.5654 - val_loss: 1.1454 - val_accuracy: 0.5934\n",
      "Epoch 9/15\n",
      "195/195 [==============================] - 26s 135ms/step - loss: 1.1962 - accuracy: 0.5690 - val_loss: 1.1086 - val_accuracy: 0.6054\n",
      "Epoch 10/15\n",
      "195/195 [==============================] - 26s 132ms/step - loss: 1.1684 - accuracy: 0.5813 - val_loss: 1.1219 - val_accuracy: 0.5990\n",
      "Epoch 11/15\n",
      "195/195 [==============================] - 25s 130ms/step - loss: 1.1449 - accuracy: 0.5869 - val_loss: 1.0938 - val_accuracy: 0.6141\n",
      "Epoch 12/15\n",
      "195/195 [==============================] - 25s 131ms/step - loss: 1.1261 - accuracy: 0.5922 - val_loss: 1.1088 - val_accuracy: 0.6098\n",
      "Epoch 13/15\n",
      "195/195 [==============================] - 25s 131ms/step - loss: 1.1126 - accuracy: 0.5974 - val_loss: 1.0579 - val_accuracy: 0.6266\n",
      "Epoch 14/15\n",
      "195/195 [==============================] - 25s 131ms/step - loss: 1.0974 - accuracy: 0.6036 - val_loss: 1.0551 - val_accuracy: 0.6281\n",
      "Epoch 15/15\n",
      "195/195 [==============================] - 26s 132ms/step - loss: 1.0841 - accuracy: 0.6081 - val_loss: 1.0613 - val_accuracy: 0.6271\n"
     ]
    }
   ],
   "source": [
    "# Train neural network\n",
    "history = model.fit(datagen.flow(X_train, y_train, batch_size=batch_size),\n",
    "                        steps_per_epoch=X_train.shape[0] // batch_size,\n",
    "                        epochs=epochs,\n",
    "                        validation_data=(X_test, y_test), verbose=1)"
   ]
  },
  {
   "cell_type": "code",
   "execution_count": 9,
   "id": "df3d38e0",
   "metadata": {},
   "outputs": [
    {
     "data": {
      "image/png": "[encoded data removed]",
      "text/plain": [
       "<Figure size 432x288 with 1 Axes>"
      ]
     },
     "metadata": {
      "needs_background": "light"
     },
     "output_type": "display_data"
    },
    {
     "data": {
      "image/png": "[encoded data removed]",
      "text/plain": [
       "<Figure size 432x288 with 1 Axes>"
      ]
     },
     "metadata": {
      "needs_background": "light"
     },
     "output_type": "display_data"
    }
   ],
   "source": [
    "training_loss = history.history[\"loss\"]\n",
    "test_loss = history.history[\"val_loss\"]\n",
    "\n",
    "# Create count of the number of epochs\n",
    "epoch_count = range(1, len(training_loss)+1)\n",
    "\n",
    "plt.plot(epoch_count, training_loss, 'r--')\n",
    "plt.plot(epoch_count, test_loss, 'b-')\n",
    "plt.legend([\"Training Loss\", \"Test Loss\"])\n",
    "plt.xlabel(\"Epoch\")\n",
    "plt.ylabel(\"Loss\")\n",
    "plt.show()\n",
    "\n",
    "training_accuracy = history.history[\"accuracy\"]\n",
    "test_accuracy = history.history[\"val_accuracy\"]\n",
    "\n",
    "plt.plot(epoch_count, training_accuracy, 'r--')\n",
    "plt.plot(epoch_count, test_accuracy, 'b-')\n",
    "plt.legend([\"Training Accuracy\", \"Test Accuracy\"])\n",
    "plt.xlabel(\"Epoch\")\n",
    "plt.ylabel(\"Accuracy Score\")\n",
    "plt.show()"
   ]
  },
  {
   "cell_type": "code",
   "execution_count": null,
   "id": "d1c6c453",
   "metadata": {},
   "outputs": [],
   "source": []
  }
 ],
 "metadata": {
  "kernelspec": {
   "display_name": "Python 3 (ipykernel)",
   "language": "python",
   "name": "python3"
  },
  "language_info": {
   "codemirror_mode": {
    "name": "ipython",
    "version": 3
   },
   "file_extension": ".py",
   "mimetype": "text/x-python",
   "name": "python",
   "nbconvert_exporter": "python",
   "pygments_lexer": "ipython3",
   "version": "3.9.7"
  }
 },
 "nbformat": 4,
 "nbformat_minor": 5
}
