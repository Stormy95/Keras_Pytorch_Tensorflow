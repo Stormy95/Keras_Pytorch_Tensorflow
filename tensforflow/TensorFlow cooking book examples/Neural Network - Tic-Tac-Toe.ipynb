{
 "cells": [
  {
   "cell_type": "markdown",
   "metadata": {},
   "source": [
    "# Learning to play Tic-Tac-Toe"
   ]
  },
  {
   "cell_type": "markdown",
   "metadata": {},
   "source": [
    "Nous allons maintenant tenter d'utiliser un réseau neuronal pour apprendre les mouvements optimaux de Tic-Tac-Toe. Nous aborderons cette tâche en sachant que le Tic-Tac-Toe est un jeu déterministe et que les mouvements optimaux sont déjà connus."
   ]
  },
  {
   "cell_type": "markdown",
   "metadata": {},
   "source": [
    "Pour entraîner notre modèle, nous utiliserons une liste de positions de plateau suivie de la réponse optimale pour un certain nombre de plateaux différents. Nous pouvons réduire le nombre de planches sur lesquelles nous devons nous entraîner en ne considérant que les positions de planches qui sont différentes en termes de symétrie."
   ]
  },
  {
   "cell_type": "markdown",
   "metadata": {},
   "source": [
    "La première vérification que nous allons effectuer consiste à supprimer une position et une rangée de coups optimaux de notre ensemble de formation. Cela nous permettra de voir si le modèle de réseau neuronal peut généraliser un coup qu'il n'a jamais vu auparavant. La deuxième façon d'évaluer notre modèle est de jouer une partie contre lui à la fin de la partie."
   ]
  },
  {
   "cell_type": "markdown",
   "metadata": {},
   "source": [
    "# Import"
   ]
  },
  {
   "cell_type": "code",
   "execution_count": 52,
   "metadata": {},
   "outputs": [],
   "source": [
    "import tensorflow as tf\n",
    "import matplotlib.pyplot as plt\n",
    "import csv\n",
    "import numpy as np\n",
    "import random "
   ]
  },
  {
   "cell_type": "markdown",
   "metadata": {},
   "source": [
    "# Sommaire\n",
    "\n",
    "[I. Prepare Game](#Partie1) \n",
    "\n",
    "[II. Set-up, train and evaluate the neural network](#Partie2) \n",
    "\n",
    "[III. Play against the AI](#Partie3) \n"
   ]
  },
  {
   "cell_type": "markdown",
   "metadata": {},
   "source": [
    "## I. Prepare Game <a class=\"anchor\" id=\"Partie1\"></a>"
   ]
  },
  {
   "cell_type": "code",
   "execution_count": 53,
   "metadata": {},
   "outputs": [],
   "source": [
    "def print_board(board):\n",
    "    ''' \n",
    "    To make visualizing the boards a bit easier, \n",
    "    we will create a function that outputs \n",
    "    Tic-Tac-Toe boards with Xs and Os. \n",
    "    ''' \n",
    "    symbols = ['O', ' ', 'X']\n",
    "    board_plus1 = [int(x) + 1 for x in board]\n",
    "    board_line1 = ' {} | {} | {}'.format(symbols[board_plus1[0]],symbols[board_plus1[1]],symbols[board_plus1[2]])\n",
    "    board_line2  = ' {} | {} | {}'.format(symbols[board_plus1[3]],symbols[board_plus1[4]],symbols[board_plus1[5]])\n",
    "    board_line3  = ' {} | {} | {}'.format(symbols[board_plus1[6]],symbols[board_plus1[7]],symbols[board_plus1[8]])\n",
    "    print(board_line1)    \n",
    "    print('___________')    \n",
    "    print(board_line2)\n",
    "    print('___________')    \n",
    "    print(board_line3)"
   ]
  },
  {
   "cell_type": "code",
   "execution_count": 54,
   "metadata": {},
   "outputs": [
    {
     "name": "stdout",
     "output_type": "stream",
     "text": [
      " O | X | X\n",
      "___________\n",
      " O | X | O\n",
      "___________\n",
      " X | O | X\n"
     ]
    }
   ],
   "source": [
    "print_board([-1,1,1,-1,1,-1,1,-1,1])"
   ]
  },
  {
   "cell_type": "code",
   "execution_count": 55,
   "metadata": {},
   "outputs": [],
   "source": [
    "def get_symmetry(board, response, transformation):     \n",
    "    '''     \n",
    "    Now we have to create a function that will return a \n",
    "    new board and an optimal response position under a transformation. \n",
    "\n",
    "    param board: list of integers 9 long:      \n",
    "    opposing mark = -1      \n",
    "    friendly mark = 1      \n",
    "    empty space = 0     \n",
    "    \n",
    "    param transformation: one of five transformations on a                                             \n",
    "    board:rotate180, rotate90, rotate270, flip_v, flip_h     \n",
    "    \n",
    "    return: tuple: (new_board, new_response)     \n",
    "    '''      \n",
    "    if transformation == 'rotate180':         \n",
    "        new_response = 8 - response         \n",
    "        return board[::-1], new_response      \n",
    "    elif transformation == 'rotate90':         \n",
    "        new_response = [6, 3, 0, 7, 4, 1, 8, 5, 2].index(response)         \n",
    "        tuple_board = list(zip(*[board[6:9], board[3:6], board[0:3]]))         \n",
    "        return [value for item in tuple_board for value in item], new_response      \n",
    "    elif transformation == 'rotate270':         \n",
    "        new_response = [2, 5, 8, 1, 4, 7, 0, 3, 6].index(response)         \n",
    "        tuple_board = list(zip(*[board[0:3], board[3:6], board[6:9]]))[::-1]         \n",
    "        return [value for item in tuple_board for value in item], new_response      \n",
    "    elif transformation == 'flip_v':         \n",
    "        new_response = [6, 7, 8, 3, 4, 5, 0, 1, 2].index(response)         \n",
    "        return board[6:9] +  board[3:6] + board[0:3], new_response      \n",
    "    elif transformation == 'flip_h':     \n",
    "        # flip_h = rotate180, then flip_v         \n",
    "        new_response = [2, 1, 0, 5, 4, 3, 8, 7, 6].index(response)         \n",
    "        new_board = board[::-1]         \n",
    "        return new_board[6:9] +  new_board[3:6] + new_board[0:3], new_response\n",
    "    else:         \n",
    "        raise ValueError('Method not implmented.')"
   ]
  },
  {
   "cell_type": "code",
   "execution_count": 56,
   "metadata": {},
   "outputs": [],
   "source": [
    "def get_moves_from_csv(csv_file): \n",
    "    ''' \n",
    "    Create a function that will load the file with the \n",
    "    boards and responses and will store it as a list of tuples\n",
    "\n",
    "    :param csv_file: csv file location containing the boards and responses \n",
    "    :return: moves: list of moves with index of best response \n",
    "    ''' \n",
    "    moves = [] \n",
    "    with open(csv_file, 'rt') as csvfile: \n",
    "        reader = csv.reader(csvfile, delimiter=',') \n",
    "        for row in reader: \n",
    "            moves.append(([int(x) for x in row[0:9]],int(row[9]))) \n",
    "    return moves \n"
   ]
  },
  {
   "cell_type": "code",
   "execution_count": 57,
   "metadata": {},
   "outputs": [],
   "source": [
    "def get_rand_move(moves, rand_transforms=2): \n",
    "    # This function performs random transformations on a board. \n",
    "    (board, response) = random.choice(moves) \n",
    "    possible_transforms = ['rotate90', 'rotate180', 'rotate270', 'flip_v', 'flip_h'] \n",
    "    for i in range(rand_transforms): \n",
    "        random_transform = random.choice(possible_transforms) \n",
    "        (board, response) = get_symmetry(board, response, random_transform) \n",
    "    return board, response"
   ]
  },
  {
   "cell_type": "code",
   "execution_count": 58,
   "metadata": {},
   "outputs": [],
   "source": [
    "# load our data and create a training se\n",
    "moves = get_moves_from_csv('base_tic_tac_toe_moves.csv') \n",
    "# Create a train set: \n",
    "train_length = 500 \n",
    "train_set = [] \n",
    "for t in range(train_length): \n",
    "    train_set.append(get_rand_move(moves)) \n"
   ]
  },
  {
   "cell_type": "code",
   "execution_count": 59,
   "metadata": {},
   "outputs": [],
   "source": [
    "'''\n",
    " remove one board and an optimal response \n",
    " from our training set to see if the model can \n",
    " generalize making the best move. \n",
    " The best move for the following board will be to play at index number 6\n",
    "'''\n",
    "\n",
    "test_board = [-1, 0, 0, 1, -1, -1, 0, 0, 1] \n",
    "train_set = [x for x in train_set if x[0] != test_board] "
   ]
  },
  {
   "cell_type": "markdown",
   "metadata": {},
   "source": [
    "## II. Set-up, train and evaluate the neural network <a class=\"anchor\" id=\"Partie2\"></a>"
   ]
  },
  {
   "cell_type": "code",
   "execution_count": 60,
   "metadata": {},
   "outputs": [],
   "source": [
    "batch_size = 50"
   ]
  },
  {
   "cell_type": "code",
   "execution_count": 61,
   "metadata": {},
   "outputs": [],
   "source": [
    "def init_weights(shape): \n",
    "    '''\n",
    "    Initialize the weights and \n",
    "    bias and create our models\n",
    "    '''\n",
    "    return tf.Variable(tf.random.normal(shape)) \n",
    "    \n",
    "    \n",
    "A1 = init_weights([9, 81])\n",
    "bias1 = init_weights([81])\n",
    "A2 = init_weights([81, 9])\n",
    "bias2 = init_weights([9])"
   ]
  },
  {
   "cell_type": "code",
   "execution_count": 62,
   "metadata": {},
   "outputs": [
    {
     "name": "stdout",
     "output_type": "stream",
     "text": [
      "WARNING:tensorflow:\n",
      "The following Variables were used a Lambda layer's call (lambda_2), but\n",
      "are not present in its tracked objects:\n",
      "  <tf.Variable 'Variable:0' shape=(9, 81) dtype=float32>\n",
      "  <tf.Variable 'Variable:0' shape=(81,) dtype=float32>\n",
      "It is possible that this is intended behavior, but it is more likely\n",
      "an omission. This is a strong indication that this layer should be\n",
      "formulated as a subclassed Layer rather than a Lambda layer.\n",
      "WARNING:tensorflow:\n",
      "The following Variables were used a Lambda layer's call (lambda_3), but\n",
      "are not present in its tracked objects:\n",
      "  <tf.Variable 'Variable:0' shape=(81, 9) dtype=float32>\n",
      "  <tf.Variable 'Variable:0' shape=(9,) dtype=float32>\n",
      "It is possible that this is intended behavior, but it is more likely\n",
      "an omission. This is a strong indication that this layer should be\n",
      "formulated as a subclassed Layer rather than a Lambda layer.\n"
     ]
    }
   ],
   "source": [
    "# Create our model\n",
    "\n",
    "X = tf.keras.Input(dtype=tf.float32, batch_input_shape=[None, 9])\n",
    "hidden_output = tf.keras.layers.Lambda(lambda x: tf.nn.sigmoid(tf.add(tf.matmul(x, A1), bias1)))(X)\n",
    "final_output = tf.keras.layers.Lambda(lambda x: tf.add(tf.matmul(x, A2), bias2))(hidden_output)\n",
    "model = tf.keras.Model(inputs=X, outputs=final_output, name=\"tic_tac_toe_neural_network\")\n",
    "optimizer = tf.keras.optimizers.SGD(0.025) # Declare our optimizer"
   ]
  },
  {
   "cell_type": "code",
   "execution_count": 63,
   "metadata": {},
   "outputs": [
    {
     "name": "stdout",
     "output_type": "stream",
     "text": [
      "Iteration: 0, Loss: 8.905830383300781\n",
      "Iteration: 500, Loss: 1.9507371187210083\n",
      "Iteration: 1000, Loss: 1.8351138830184937\n",
      "Iteration: 1500, Loss: 1.7312012910842896\n",
      "Iteration: 2000, Loss: 1.6647765636444092\n",
      "Iteration: 2500, Loss: 1.5704518556594849\n",
      "Iteration: 3000, Loss: 1.2884418964385986\n",
      "Iteration: 3500, Loss: 1.4116607904434204\n",
      "Iteration: 4000, Loss: 1.3207855224609375\n",
      "Iteration: 4500, Loss: 1.3063048124313354\n",
      "Iteration: 5000, Loss: 1.2508925199508667\n",
      "Iteration: 5500, Loss: 1.2866696119308472\n",
      "Iteration: 6000, Loss: 1.1893212795257568\n",
      "Iteration: 6500, Loss: 1.0249371528625488\n",
      "Iteration: 7000, Loss: 0.9376190304756165\n",
      "Iteration: 7500, Loss: 0.9642349481582642\n",
      "Iteration: 8000, Loss: 0.6844269633293152\n",
      "Iteration: 8500, Loss: 0.8883045315742493\n",
      "Iteration: 9000, Loss: 0.8470913767814636\n",
      "Iteration: 9500, Loss: 0.8848100304603577\n"
     ]
    }
   ],
   "source": [
    "''' loop through the training of our neural network with the following code. \n",
    "Note that our loss function will be the average softmax of the nal output logits '''\n",
    "\n",
    "loss_vec = []\n",
    "for i in range(10000):\n",
    "    rand_indices = np.random.choice(range(len(train_set)), batch_size, replace=False)\n",
    "    batch_data = [train_set[i] for i in rand_indices]\n",
    "    x_input = [x[0] for x in batch_data]\n",
    "    y_target = np.array([y[1] for y in batch_data])\n",
    "    # Open a GradientTape.\n",
    "    with tf.GradientTape(persistent=True) as tape:\n",
    "        # Forward pass.\n",
    "        output = model(np.array(x_input, dtype=float))\n",
    "        # Apply loss function (Cross Entropy loss)\n",
    "        loss = tf.reduce_mean(tf.nn.sparse_softmax_cross_entropy_with_logits(logits=output, labels=y_target))\n",
    "        loss_vec.append(loss)\n",
    "    # Get gradients of loss with reference to the weights and bias variables to adjust.\n",
    "    gradients_A1 = tape.gradient(loss, A1)\n",
    "    gradients_b1 = tape.gradient(loss, bias1)\n",
    "    gradients_A2 = tape.gradient(loss, A2)\n",
    "    gradients_b2 = tape.gradient(loss, bias2)\n",
    "    # Update the weights and bias variables of the model.\n",
    "    optimizer.apply_gradients(zip([gradients_A1, gradients_b1, gradients_A2, gradients_b2],[A1, bias1, A2, bias2]))\n",
    "    if i % 500 == 0:\n",
    "        print('Iteration: {}, Loss: {}'.format(i, loss)) "
   ]
  },
  {
   "cell_type": "code",
   "execution_count": 64,
   "metadata": {},
   "outputs": [
    {
     "data": {
      "image/png": "[encoded data removed]",
      "text/plain": [
       "<Figure size 432x288 with 1 Axes>"
      ]
     },
     "metadata": {
      "needs_background": "light"
     },
     "output_type": "display_data"
    }
   ],
   "source": [
    "'''\n",
    "plot the loss over the model training\n",
    "'''\n",
    "plt.plot(loss_vec, 'k-', label='Loss') \n",
    "plt.title('Loss (MSE) per Generation') \n",
    "plt.xlabel('Generation') \n",
    "plt.ylabel('Loss') \n",
    "plt.show()"
   ]
  },
  {
   "cell_type": "code",
   "execution_count": 65,
   "metadata": {},
   "outputs": [
    {
     "name": "stdout",
     "output_type": "stream",
     "text": [
      "tf.Tensor([6], shape=(1,), dtype=int64)\n"
     ]
    }
   ],
   "source": [
    "'''\n",
    " To test the model, we need to see how it performs on the \n",
    " test board that we removed from the training set. \n",
    " We are hoping that the model can generalize and predict \n",
    " the optimal index for moving, which will be index number 6.\n",
    "'''\n",
    "test_boards = [test_board] \n",
    "logits = model.predict(test_boards)\n",
    "predictions = tf.argmax(logits, 1)\n",
    "print(predictions)"
   ]
  },
  {
   "cell_type": "code",
   "execution_count": 66,
   "metadata": {},
   "outputs": [],
   "source": [
    "def check(board): \n",
    "    wins = [[0,1,2], [3,4,5], [6,7,8], [0,3,6], [1,4,7], [2,5,8], [0,4,8], [2,4,6]] \n",
    "    for i in range(len(wins)): \n",
    "        if  board[wins[i][0]]==board[wins[i][1]]==board[wins[i][2]]==1.: \n",
    "            return 1 \n",
    "        elif board[wins[i][0]]==board[wins[i][1]]==board[wins[i][2]]==-1.: \n",
    "            return 1 \n",
    "    return 0\n"
   ]
  },
  {
   "cell_type": "markdown",
   "metadata": {},
   "source": [
    "## III. Play against the AI <a class=\"anchor\" id=\"Partie3\"></a>"
   ]
  },
  {
   "cell_type": "code",
   "execution_count": 67,
   "metadata": {},
   "outputs": [
    {
     "name": "stdout",
     "output_type": "stream",
     "text": [
      "Model has moved\n",
      " O |   |  \n",
      "___________\n",
      " X |   |  \n",
      "___________\n",
      "   |   |  \n",
      "Model has moved\n",
      " O |   |  \n",
      "___________\n",
      " X | X |  \n",
      "___________\n",
      "   |   | O\n",
      "Model has moved\n",
      " O |   | O\n",
      "___________\n",
      " X | X | X\n",
      "___________\n",
      "   |   | O\n",
      "Congratulations, You won!\n"
     ]
    }
   ],
   "source": [
    "game_tracker = [0., 0., 0., 0., 0., 0., 0., 0., 0.]\n",
    "win_logical = False\n",
    "num_moves = 0\n",
    "while not win_logical:\n",
    "    player_index = input('Input index of your move (0-8): ')\n",
    "    num_moves += 1\n",
    "    # Add player move to game\n",
    "    game_tracker[int(player_index)] = 1.\n",
    "    \n",
    "    # Get model's move by first getting all the logits for each index\n",
    "    [potential_moves] = model(np.array([game_tracker], dtype=float))\n",
    "    # Now find allowed moves (where game tracker values = 0.0)\n",
    "    allowed_moves = [ix for ix, x in enumerate(game_tracker) if x == 0.0]\n",
    "    # Find best move by taking argmax of logits if they are in allowed moves\n",
    "    model_move = np.argmax([x if ix in allowed_moves else -999.0 for ix, x in enumerate(potential_moves)])\n",
    "    \n",
    "    # Add model move to game\n",
    "    game_tracker[int(model_move)] = -1.\n",
    "    print('Model has moved')\n",
    "    print_board(game_tracker)\n",
    "    # Now check for win or too many moves\n",
    "    if check(game_tracker) == -1 or num_moves >= 5:\n",
    "        print('Game Over!')\n",
    "        win_logical = True\n",
    "    elif check(game_tracker) == 1:\n",
    "        print('Congratulations, You won!')\n",
    "        win_logical = True\n"
   ]
  }
 ],
 "metadata": {
  "interpreter": {
   "hash": "facb5e61a4394193cb0f4fe6a1e15649a9df4920ef6ba80a21095838ac15af6e"
  },
  "kernelspec": {
   "display_name": "Python 3.8.5 ('base')",
   "language": "python",
   "name": "python3"
  },
  "language_info": {
   "codemirror_mode": {
    "name": "ipython",
    "version": 3
   },
   "file_extension": ".py",
   "mimetype": "text/x-python",
   "name": "python",
   "nbconvert_exporter": "python",
   "pygments_lexer": "ipython3",
   "version": "3.8.5"
  },
  "orig_nbformat": 4
 },
 "nbformat": 4,
 "nbformat_minor": 2
}
